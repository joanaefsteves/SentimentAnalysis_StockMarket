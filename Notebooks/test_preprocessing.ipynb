{
 "cells": [
  {
   "cell_type": "markdown",
   "metadata": {},
   "source": [
    "# Preprocessing Testing and Exploration"
   ]
  },
  {
   "cell_type": "markdown",
   "metadata": {},
   "source": [
    "## Data Loading"
   ]
  },
  {
   "cell_type": "code",
   "execution_count": 1,
   "metadata": {},
   "outputs": [
    {
     "name": "stdout",
     "output_type": "stream",
     "text": [
      "Dataset shape: (9543, 2)\n"
     ]
    },
    {
     "data": {
      "application/vnd.microsoft.datawrangler.viewer.v0+json": {
       "columns": [
        {
         "name": "index",
         "rawType": "int64",
         "type": "integer"
        },
        {
         "name": "text",
         "rawType": "object",
         "type": "string"
        },
        {
         "name": "label",
         "rawType": "int64",
         "type": "integer"
        }
       ],
       "ref": "99066312-e5af-4043-a43c-7f86a46c0849",
       "rows": [
        [
         "0",
         "$BYND - JPMorgan reels in expectations on Beyond Meat https://t.co/bd0xbFGjkT",
         "0"
        ],
        [
         "1",
         "$CCL $RCL - Nomura points to bookings weakness at Carnival and Royal Caribbean https://t.co/yGjpT2ReD3",
         "0"
        ],
        [
         "2",
         "$CX - Cemex cut at Credit Suisse, J.P. Morgan on weak building outlook https://t.co/KN1g4AWFIb",
         "0"
        ],
        [
         "3",
         "$ESS: BTIG Research cuts to Neutral https://t.co/MCyfTsXc2N",
         "0"
        ],
        [
         "4",
         "$FNKO - Funko slides after Piper Jaffray PT cut https://t.co/z37IJmCQzB",
         "0"
        ]
       ],
       "shape": {
        "columns": 2,
        "rows": 5
       }
      },
      "text/html": [
       "<div>\n",
       "<style scoped>\n",
       "    .dataframe tbody tr th:only-of-type {\n",
       "        vertical-align: middle;\n",
       "    }\n",
       "\n",
       "    .dataframe tbody tr th {\n",
       "        vertical-align: top;\n",
       "    }\n",
       "\n",
       "    .dataframe thead th {\n",
       "        text-align: right;\n",
       "    }\n",
       "</style>\n",
       "<table border=\"1\" class=\"dataframe\">\n",
       "  <thead>\n",
       "    <tr style=\"text-align: right;\">\n",
       "      <th></th>\n",
       "      <th>text</th>\n",
       "      <th>label</th>\n",
       "    </tr>\n",
       "  </thead>\n",
       "  <tbody>\n",
       "    <tr>\n",
       "      <th>0</th>\n",
       "      <td>$BYND - JPMorgan reels in expectations on Beyo...</td>\n",
       "      <td>0</td>\n",
       "    </tr>\n",
       "    <tr>\n",
       "      <th>1</th>\n",
       "      <td>$CCL $RCL - Nomura points to bookings weakness...</td>\n",
       "      <td>0</td>\n",
       "    </tr>\n",
       "    <tr>\n",
       "      <th>2</th>\n",
       "      <td>$CX - Cemex cut at Credit Suisse, J.P. Morgan ...</td>\n",
       "      <td>0</td>\n",
       "    </tr>\n",
       "    <tr>\n",
       "      <th>3</th>\n",
       "      <td>$ESS: BTIG Research cuts to Neutral https://t....</td>\n",
       "      <td>0</td>\n",
       "    </tr>\n",
       "    <tr>\n",
       "      <th>4</th>\n",
       "      <td>$FNKO - Funko slides after Piper Jaffray PT cu...</td>\n",
       "      <td>0</td>\n",
       "    </tr>\n",
       "  </tbody>\n",
       "</table>\n",
       "</div>"
      ],
      "text/plain": [
       "                                                text  label\n",
       "0  $BYND - JPMorgan reels in expectations on Beyo...      0\n",
       "1  $CCL $RCL - Nomura points to bookings weakness...      0\n",
       "2  $CX - Cemex cut at Credit Suisse, J.P. Morgan ...      0\n",
       "3  $ESS: BTIG Research cuts to Neutral https://t....      0\n",
       "4  $FNKO - Funko slides after Piper Jaffray PT cu...      0"
      ]
     },
     "execution_count": 1,
     "metadata": {},
     "output_type": "execute_result"
    }
   ],
   "source": [
    "import os # type: ignore\n",
    "import pandas as pd # type: ignore\n",
    "import numpy as np # type: ignore\n",
    "import matplotlib.pyplot as plt # type: ignore\n",
    "import seaborn as sns # type: ignore\n",
    "from wordcloud import WordCloud # type: ignore\n",
    "from collections import Counter # type: ignore\n",
    "\n",
    "# Load data\n",
    "data_folder = os.path.join(os.path.dirname(os.getcwd()), 'data')\n",
    "data_train = pd.read_csv(os.path.join(data_folder, 'train.csv'))\n",
    "print(f\"Dataset shape: {data_train.shape}\")\n",
    "data_train.head()"
   ]
  },
  {
   "cell_type": "markdown",
   "metadata": {},
   "source": [
    "## Setup Preprocessing"
   ]
  },
  {
   "cell_type": "code",
   "execution_count": 2,
   "metadata": {},
   "outputs": [
    {
     "name": "stdout",
     "output_type": "stream",
     "text": [
      "Current working directory: /Users/leonardodicaterina/Desktop/NovaIMS/TextMining/TM_Project/Notebooks\n",
      "Changed working directory to: /Users/leonardodicaterina/Desktop/NovaIMS/TextMining/TM_Project\n"
     ]
    }
   ],
   "source": [
    "# Change to parent directory to import preprocessing\n",
    "print(\"Current working directory:\", os.getcwd())\n",
    "os.chdir(os.path.dirname(os.getcwd()))\n",
    "print(\"Changed working directory to:\", os.getcwd())"
   ]
  },
  {
   "cell_type": "code",
   "execution_count": 3,
   "metadata": {},
   "outputs": [
    {
     "name": "stdout",
     "output_type": "stream",
     "text": [
      "Downloading wordnet...\n",
      "Downloading omw-1.4...\n",
      "Downloading wordnet...\n",
      "Downloading omw-1.4...\n",
      "Downloading wordnet...\n",
      "Downloading omw-1.4...\n",
      "Downloading wordnet...\n",
      "Downloading omw-1.4...\n",
      "Preprocessing modules initialized\n"
     ]
    }
   ],
   "source": [
    "from src.preprocessing import Preprocessing\n",
    "\n",
    "Preprocessing_instance = Preprocessing(lemmatize=True, stem=False)\n",
    "\n",
    "# Initialize preprocessing with different configurations\n",
    "preprocessor_lemma = Preprocessing(lemmatize=True, stem=False, emoji_support_level=1)\n",
    "preprocessor_stem = Preprocessing(lemmatize=False, stem=True, emoji_support_level=1)\n",
    "preprocessor_both = Preprocessing(lemmatize=True, stem=True, emoji_support_level=1)\n",
    "\n",
    "print(\"Preprocessing modules initialized\")"
   ]
  },
  {
   "cell_type": "markdown",
   "metadata": {},
   "source": [
    "## Raw Text Analysis"
   ]
  },
  {
   "cell_type": "code",
   "execution_count": 4,
   "metadata": {},
   "outputs": [
    {
     "name": "stdout",
     "output_type": "stream",
     "text": [
      "Sample raw texts:\n",
      "\n",
      "1. $BYND - JPMorgan reels in expectations on Beyond Meat https://t.co/bd0xbFGjkT...\n",
      "\n",
      "2. $CCL $RCL - Nomura points to bookings weakness at Carnival and Royal Caribbean https://t.co/yGjpT2ReD3...\n",
      "\n",
      "3. $CX - Cemex cut at Credit Suisse, J.P. Morgan on weak building outlook https://t.co/KN1g4AWFIb...\n"
     ]
    }
   ],
   "source": [
    "# Sample some texts for detailed analysis\n",
    "sample_texts = data_train['text'].head(10).tolist()\n",
    "\n",
    "print(\"Sample raw texts:\")\n",
    "for i, text in enumerate(sample_texts[:3], 1):\n",
    "    print(f\"\\n{i}. {text[:200]}...\")"
   ]
  },
  {
   "cell_type": "code",
   "execution_count": 5,
   "metadata": {},
   "outputs": [
    {
     "data": {
      "image/png": "[encoded data removed]",
      "text/plain": [
       "<Figure size 1200x400 with 2 Axes>"
      ]
     },
     "metadata": {},
     "output_type": "display_data"
    },
    {
     "name": "stdout",
     "output_type": "stream",
     "text": [
      "Raw text word count statistics:\n",
      "count    9543.000000\n",
      "mean       12.168081\n",
      "std         4.651245\n",
      "min         1.000000\n",
      "25%         9.000000\n",
      "50%        11.000000\n",
      "75%        15.000000\n",
      "max        31.000000\n",
      "Name: word_count_raw, dtype: float64\n"
     ]
    }
   ],
   "source": [
    "# Word count analysis before preprocessing\n",
    "data_train['word_count_raw'] = data_train['text'].apply(lambda x: len(str(x).split(\" \")))\n",
    "\n",
    "plt.figure(figsize=(12, 4))\n",
    "\n",
    "plt.subplot(1, 2, 1)\n",
    "plt.hist(data_train['word_count_raw'], bins=50, alpha=0.7, color='skyblue')\n",
    "plt.title('Raw Text Word Count Distribution')\n",
    "plt.xlabel('Word Count')\n",
    "plt.ylabel('Frequency')\n",
    "\n",
    "plt.subplot(1, 2, 2)\n",
    "sns.boxplot(x=data_train['word_count_raw'])\n",
    "plt.title('Raw Text Word Count Box Plot')\n",
    "plt.xlabel('Word Count')\n",
    "\n",
    "plt.tight_layout()\n",
    "plt.show()\n",
    "\n",
    "print(f\"Raw text word count statistics:\")\n",
    "print(data_train['word_count_raw'].describe())"
   ]
  },
  {
   "cell_type": "markdown",
   "metadata": {},
   "source": [
    "## Preprocessing Comparison"
   ]
  },
  {
   "cell_type": "code",
   "execution_count": 6,
   "metadata": {},
   "outputs": [
    {
     "name": "stdout",
     "output_type": "stream",
     "text": [
      "Processing emojis with support level 1\n",
      "Initial texts: $bynd - jpmorgan reels in expectations on beyond meat URL\n",
      "Processing text: $\n",
      "ord values: [36]\n",
      "Processing text: b\n",
      "ord values: [98]\n",
      "Processing text: y\n",
      "ord values: [121]\n",
      "Processing text: n\n",
      "ord values: [110]\n",
      "Processing text: d\n",
      "ord values: [100]\n",
      "Processing text:  \n",
      "ord values: [32]\n",
      "Processing text: -\n",
      "ord values: [45]\n",
      "Processing text:  \n",
      "ord values: [32]\n",
      "Processing text: j\n",
      "ord values: [106]\n",
      "Processing text: p\n",
      "ord values: [112]\n",
      "Processing text: m\n",
      "ord values: [109]\n",
      "Processing text: o\n",
      "ord values: [111]\n",
      "Processing text: r\n",
      "ord values: [114]\n",
      "Processing text: g\n",
      "ord values: [103]\n",
      "Processing text: a\n",
      "ord values: [97]\n",
      "Processing text: n\n",
      "ord values: [110]\n",
      "Processing text:  \n",
      "ord values: [32]\n",
      "Processing text: r\n",
      "ord values: [114]\n",
      "Processing text: e\n",
      "ord values: [101]\n",
      "Processing text: e\n",
      "ord values: [101]\n",
      "Processing text: l\n",
      "ord values: [108]\n",
      "Processing text: s\n",
      "ord values: [115]\n",
      "Processing text:  \n",
      "ord values: [32]\n",
      "Processing text: i\n",
      "ord values: [105]\n",
      "Processing text: n\n",
      "ord values: [110]\n",
      "Processing text:  \n",
      "ord values: [32]\n",
      "Processing text: e\n",
      "ord values: [101]\n",
      "Processing text: x\n",
      "ord values: [120]\n",
      "Processing text: p\n",
      "ord values: [112]\n",
      "Processing text: e\n",
      "ord values: [101]\n",
      "Processing text: c\n",
      "ord values: [99]\n",
      "Processing text: t\n",
      "ord values: [116]\n",
      "Processing text: a\n",
      "ord values: [97]\n",
      "Processing text: t\n",
      "ord values: [116]\n",
      "Processing text: i\n",
      "ord values: [105]\n",
      "Processing text: o\n",
      "ord values: [111]\n",
      "Processing text: n\n",
      "ord values: [110]\n",
      "Processing text: s\n",
      "ord values: [115]\n",
      "Processing text:  \n",
      "ord values: [32]\n",
      "Processing text: o\n",
      "ord values: [111]\n",
      "Processing text: n\n",
      "ord values: [110]\n",
      "Processing text:  \n",
      "ord values: [32]\n",
      "Processing text: b\n",
      "ord values: [98]\n",
      "Processing text: e\n",
      "ord values: [101]\n",
      "Processing text: y\n",
      "ord values: [121]\n",
      "Processing text: o\n",
      "ord values: [111]\n",
      "Processing text: n\n",
      "ord values: [110]\n",
      "Processing text: d\n",
      "ord values: [100]\n",
      "Processing text:  \n",
      "ord values: [32]\n",
      "Processing text: m\n",
      "ord values: [109]\n",
      "Processing text: e\n",
      "ord values: [101]\n",
      "Processing text: a\n",
      "ord values: [97]\n",
      "Processing text: t\n",
      "ord values: [116]\n",
      "Processing text:  \n",
      "ord values: [32]\n",
      "Processing text: U\n",
      "ord values: [85]\n",
      "Processing text: R\n",
      "ord values: [82]\n",
      "Processing text: L\n",
      "ord values: [76]\n",
      "ASCII cleaned text: ['', 'b', 'y', 'n', 'd', '', '', '', 'j', 'p', 'm', 'o', 'r', 'g', 'a', 'n', '', 'r', 'e', 'e', 'l', 's', '', 'i', 'n', '', 'e', 'x', 'p', 'e', 'c', 't', 'a', 't', 'i', 'o', 'n', 's', '', 'o', 'n', '', 'b', 'e', 'y', 'o', 'n', 'd', '', 'm', 'e', 'a', 't', '', 'U', 'R', 'L']\n"
     ]
    },
    {
     "ename": "TypeError",
     "evalue": "expected string or bytes-like object, got 'list'",
     "output_type": "error",
     "traceback": [
      "\u001b[31m---------------------------------------------------------------------------\u001b[39m",
      "\u001b[31mTypeError\u001b[39m                                 Traceback (most recent call last)",
      "\u001b[36mCell\u001b[39m\u001b[36m \u001b[39m\u001b[32mIn[6]\u001b[39m\u001b[32m, line 5\u001b[39m\n\u001b[32m      2\u001b[39m test_texts = sample_texts[:\u001b[32m5\u001b[39m]\n\u001b[32m      4\u001b[39m \u001b[38;5;66;03m# Apply different preprocessing approaches\u001b[39;00m\n\u001b[32m----> \u001b[39m\u001b[32m5\u001b[39m processed_lemma = \u001b[43mpreprocessor_lemma\u001b[49m\u001b[43m.\u001b[49m\u001b[43mpreprocess\u001b[49m\u001b[43m(\u001b[49m\u001b[43mtest_texts\u001b[49m\u001b[43m)\u001b[49m\n\u001b[32m      6\u001b[39m processed_stem = preprocessor_stem.preprocess(test_texts)\n\u001b[32m      7\u001b[39m processed_both = preprocessor_both.preprocess(test_texts)\n",
      "\u001b[36mFile \u001b[39m\u001b[32m~/Desktop/NovaIMS/TextMining/TM_Project/src/preprocessing.py:62\u001b[39m, in \u001b[36mPreprocessing.preprocess\u001b[39m\u001b[34m(self, texts)\u001b[39m\n\u001b[32m     61\u001b[39m \u001b[38;5;28;01mdef\u001b[39;00m\u001b[38;5;250m \u001b[39m\u001b[34mpreprocess\u001b[39m(\u001b[38;5;28mself\u001b[39m, texts):\n\u001b[32m---> \u001b[39m\u001b[32m62\u001b[39m     \u001b[38;5;28;01mreturn\u001b[39;00m [\u001b[38;5;28;43mself\u001b[39;49m\u001b[43m.\u001b[49m\u001b[43m_clean_text\u001b[49m\u001b[43m(\u001b[49m\u001b[43mtext\u001b[49m\u001b[43m)\u001b[49m \u001b[38;5;28;01mfor\u001b[39;00m text \u001b[38;5;129;01min\u001b[39;00m texts]\n",
      "\u001b[36mFile \u001b[39m\u001b[32m~/Desktop/NovaIMS/TextMining/TM_Project/src/preprocessing.py:95\u001b[39m, in \u001b[36mPreprocessing._clean_text\u001b[39m\u001b[34m(self, text)\u001b[39m\n\u001b[32m     93\u001b[39m ascii_text  = \u001b[38;5;28mself\u001b[39m.final_ascii_clean(text)\n\u001b[32m     94\u001b[39m \u001b[38;5;28mprint\u001b[39m(\u001b[33mf\u001b[39m\u001b[33m\"\u001b[39m\u001b[33mASCII cleaned text: \u001b[39m\u001b[38;5;132;01m{\u001b[39;00mascii_text\u001b[38;5;132;01m}\u001b[39;00m\u001b[33m\"\u001b[39m)  \u001b[38;5;66;03m# Debugging line to print ASCII cleaned text\u001b[39;00m\n\u001b[32m---> \u001b[39m\u001b[32m95\u001b[39m tokens = \u001b[43mword_tokenize\u001b[49m\u001b[43m(\u001b[49m\u001b[43mascii_text\u001b[49m\u001b[43m)\u001b[49m\n\u001b[32m     97\u001b[39m \u001b[38;5;66;03m# Remove punctuation and stopwords\u001b[39;00m\n\u001b[32m     98\u001b[39m tokens = [t \u001b[38;5;28;01mfor\u001b[39;00m t \u001b[38;5;129;01min\u001b[39;00m tokens \u001b[38;5;28;01mif\u001b[39;00m (t \u001b[38;5;129;01mnot\u001b[39;00m \u001b[38;5;129;01min\u001b[39;00m \u001b[38;5;28mself\u001b[39m.punctuation \u001b[38;5;129;01mand\u001b[39;00m t \u001b[38;5;129;01mnot\u001b[39;00m \u001b[38;5;129;01min\u001b[39;00m \u001b[38;5;28mself\u001b[39m.stopwords)]\n",
      "\u001b[36mFile \u001b[39m\u001b[32m/opt/anaconda3/envs/Text_env/lib/python3.12/site-packages/nltk/tokenize/__init__.py:142\u001b[39m, in \u001b[36mword_tokenize\u001b[39m\u001b[34m(text, language, preserve_line)\u001b[39m\n\u001b[32m    127\u001b[39m \u001b[38;5;28;01mdef\u001b[39;00m\u001b[38;5;250m \u001b[39m\u001b[34mword_tokenize\u001b[39m(text, language=\u001b[33m\"\u001b[39m\u001b[33menglish\u001b[39m\u001b[33m\"\u001b[39m, preserve_line=\u001b[38;5;28;01mFalse\u001b[39;00m):\n\u001b[32m    128\u001b[39m \u001b[38;5;250m    \u001b[39m\u001b[33;03m\"\"\"\u001b[39;00m\n\u001b[32m    129\u001b[39m \u001b[33;03m    Return a tokenized copy of *text*,\u001b[39;00m\n\u001b[32m    130\u001b[39m \u001b[33;03m    using NLTK's recommended word tokenizer\u001b[39;00m\n\u001b[32m   (...)\u001b[39m\u001b[32m    140\u001b[39m \u001b[33;03m    :type preserve_line: bool\u001b[39;00m\n\u001b[32m    141\u001b[39m \u001b[33;03m    \"\"\"\u001b[39;00m\n\u001b[32m--> \u001b[39m\u001b[32m142\u001b[39m     sentences = [text] \u001b[38;5;28;01mif\u001b[39;00m preserve_line \u001b[38;5;28;01melse\u001b[39;00m \u001b[43msent_tokenize\u001b[49m\u001b[43m(\u001b[49m\u001b[43mtext\u001b[49m\u001b[43m,\u001b[49m\u001b[43m \u001b[49m\u001b[43mlanguage\u001b[49m\u001b[43m)\u001b[49m\n\u001b[32m    143\u001b[39m     \u001b[38;5;28;01mreturn\u001b[39;00m [\n\u001b[32m    144\u001b[39m         token \u001b[38;5;28;01mfor\u001b[39;00m sent \u001b[38;5;129;01min\u001b[39;00m sentences \u001b[38;5;28;01mfor\u001b[39;00m token \u001b[38;5;129;01min\u001b[39;00m _treebank_word_tokenizer.tokenize(sent)\n\u001b[32m    145\u001b[39m     ]\n",
      "\u001b[36mFile \u001b[39m\u001b[32m/opt/anaconda3/envs/Text_env/lib/python3.12/site-packages/nltk/tokenize/__init__.py:120\u001b[39m, in \u001b[36msent_tokenize\u001b[39m\u001b[34m(text, language)\u001b[39m\n\u001b[32m    110\u001b[39m \u001b[38;5;250m\u001b[39m\u001b[33;03m\"\"\"\u001b[39;00m\n\u001b[32m    111\u001b[39m \u001b[33;03mReturn a sentence-tokenized copy of *text*,\u001b[39;00m\n\u001b[32m    112\u001b[39m \u001b[33;03musing NLTK's recommended sentence tokenizer\u001b[39;00m\n\u001b[32m   (...)\u001b[39m\u001b[32m    117\u001b[39m \u001b[33;03m:param language: the model name in the Punkt corpus\u001b[39;00m\n\u001b[32m    118\u001b[39m \u001b[33;03m\"\"\"\u001b[39;00m\n\u001b[32m    119\u001b[39m tokenizer = _get_punkt_tokenizer(language)\n\u001b[32m--> \u001b[39m\u001b[32m120\u001b[39m \u001b[38;5;28;01mreturn\u001b[39;00m \u001b[43mtokenizer\u001b[49m\u001b[43m.\u001b[49m\u001b[43mtokenize\u001b[49m\u001b[43m(\u001b[49m\u001b[43mtext\u001b[49m\u001b[43m)\u001b[49m\n",
      "\u001b[36mFile \u001b[39m\u001b[32m/opt/anaconda3/envs/Text_env/lib/python3.12/site-packages/nltk/tokenize/punkt.py:1280\u001b[39m, in \u001b[36mPunktSentenceTokenizer.tokenize\u001b[39m\u001b[34m(self, text, realign_boundaries)\u001b[39m\n\u001b[32m   1276\u001b[39m \u001b[38;5;28;01mdef\u001b[39;00m\u001b[38;5;250m \u001b[39m\u001b[34mtokenize\u001b[39m(\u001b[38;5;28mself\u001b[39m, text: \u001b[38;5;28mstr\u001b[39m, realign_boundaries: \u001b[38;5;28mbool\u001b[39m = \u001b[38;5;28;01mTrue\u001b[39;00m) -> List[\u001b[38;5;28mstr\u001b[39m]:\n\u001b[32m   1277\u001b[39m \u001b[38;5;250m    \u001b[39m\u001b[33;03m\"\"\"\u001b[39;00m\n\u001b[32m   1278\u001b[39m \u001b[33;03m    Given a text, returns a list of the sentences in that text.\u001b[39;00m\n\u001b[32m   1279\u001b[39m \u001b[33;03m    \"\"\"\u001b[39;00m\n\u001b[32m-> \u001b[39m\u001b[32m1280\u001b[39m     \u001b[38;5;28;01mreturn\u001b[39;00m \u001b[38;5;28mlist\u001b[39m(\u001b[38;5;28;43mself\u001b[39;49m\u001b[43m.\u001b[49m\u001b[43msentences_from_text\u001b[49m\u001b[43m(\u001b[49m\u001b[43mtext\u001b[49m\u001b[43m,\u001b[49m\u001b[43m \u001b[49m\u001b[43mrealign_boundaries\u001b[49m\u001b[43m)\u001b[49m)\n",
      "\u001b[36mFile \u001b[39m\u001b[32m/opt/anaconda3/envs/Text_env/lib/python3.12/site-packages/nltk/tokenize/punkt.py:1340\u001b[39m, in \u001b[36mPunktSentenceTokenizer.sentences_from_text\u001b[39m\u001b[34m(self, text, realign_boundaries)\u001b[39m\n\u001b[32m   1331\u001b[39m \u001b[38;5;28;01mdef\u001b[39;00m\u001b[38;5;250m \u001b[39m\u001b[34msentences_from_text\u001b[39m(\n\u001b[32m   1332\u001b[39m     \u001b[38;5;28mself\u001b[39m, text: \u001b[38;5;28mstr\u001b[39m, realign_boundaries: \u001b[38;5;28mbool\u001b[39m = \u001b[38;5;28;01mTrue\u001b[39;00m\n\u001b[32m   1333\u001b[39m ) -> List[\u001b[38;5;28mstr\u001b[39m]:\n\u001b[32m   1334\u001b[39m \u001b[38;5;250m    \u001b[39m\u001b[33;03m\"\"\"\u001b[39;00m\n\u001b[32m   1335\u001b[39m \u001b[33;03m    Given a text, generates the sentences in that text by only\u001b[39;00m\n\u001b[32m   1336\u001b[39m \u001b[33;03m    testing candidate sentence breaks. If realign_boundaries is\u001b[39;00m\n\u001b[32m   1337\u001b[39m \u001b[33;03m    True, includes in the sentence closing punctuation that\u001b[39;00m\n\u001b[32m   1338\u001b[39m \u001b[33;03m    follows the period.\u001b[39;00m\n\u001b[32m   1339\u001b[39m \u001b[33;03m    \"\"\"\u001b[39;00m\n\u001b[32m-> \u001b[39m\u001b[32m1340\u001b[39m     \u001b[38;5;28;01mreturn\u001b[39;00m \u001b[43m[\u001b[49m\u001b[43mtext\u001b[49m\u001b[43m[\u001b[49m\u001b[43ms\u001b[49m\u001b[43m:\u001b[49m\u001b[43me\u001b[49m\u001b[43m]\u001b[49m\u001b[43m \u001b[49m\u001b[38;5;28;43;01mfor\u001b[39;49;00m\u001b[43m \u001b[49m\u001b[43ms\u001b[49m\u001b[43m,\u001b[49m\u001b[43m \u001b[49m\u001b[43me\u001b[49m\u001b[43m \u001b[49m\u001b[38;5;129;43;01min\u001b[39;49;00m\u001b[43m \u001b[49m\u001b[38;5;28;43mself\u001b[39;49m\u001b[43m.\u001b[49m\u001b[43mspan_tokenize\u001b[49m\u001b[43m(\u001b[49m\u001b[43mtext\u001b[49m\u001b[43m,\u001b[49m\u001b[43m \u001b[49m\u001b[43mrealign_boundaries\u001b[49m\u001b[43m)\u001b[49m\u001b[43m]\u001b[49m\n",
      "\u001b[36mFile \u001b[39m\u001b[32m/opt/anaconda3/envs/Text_env/lib/python3.12/site-packages/nltk/tokenize/punkt.py:1328\u001b[39m, in \u001b[36mPunktSentenceTokenizer.span_tokenize\u001b[39m\u001b[34m(self, text, realign_boundaries)\u001b[39m\n\u001b[32m   1326\u001b[39m \u001b[38;5;28;01mif\u001b[39;00m realign_boundaries:\n\u001b[32m   1327\u001b[39m     slices = \u001b[38;5;28mself\u001b[39m._realign_boundaries(text, slices)\n\u001b[32m-> \u001b[39m\u001b[32m1328\u001b[39m \u001b[43m\u001b[49m\u001b[38;5;28;43;01mfor\u001b[39;49;00m\u001b[43m \u001b[49m\u001b[43msentence\u001b[49m\u001b[43m \u001b[49m\u001b[38;5;129;43;01min\u001b[39;49;00m\u001b[43m \u001b[49m\u001b[43mslices\u001b[49m\u001b[43m:\u001b[49m\n\u001b[32m   1329\u001b[39m \u001b[43m    \u001b[49m\u001b[38;5;28;43;01myield\u001b[39;49;00m\u001b[43m \u001b[49m\u001b[43m(\u001b[49m\u001b[43msentence\u001b[49m\u001b[43m.\u001b[49m\u001b[43mstart\u001b[49m\u001b[43m,\u001b[49m\u001b[43m \u001b[49m\u001b[43msentence\u001b[49m\u001b[43m.\u001b[49m\u001b[43mstop\u001b[49m\u001b[43m)\u001b[49m\n",
      "\u001b[36mFile \u001b[39m\u001b[32m/opt/anaconda3/envs/Text_env/lib/python3.12/site-packages/nltk/tokenize/punkt.py:1457\u001b[39m, in \u001b[36mPunktSentenceTokenizer._realign_boundaries\u001b[39m\u001b[34m(self, text, slices)\u001b[39m\n\u001b[32m   1444\u001b[39m \u001b[38;5;250m\u001b[39m\u001b[33;03m\"\"\"\u001b[39;00m\n\u001b[32m   1445\u001b[39m \u001b[33;03mAttempts to realign punctuation that falls after the period but\u001b[39;00m\n\u001b[32m   1446\u001b[39m \u001b[33;03mshould otherwise be included in the same sentence.\u001b[39;00m\n\u001b[32m   (...)\u001b[39m\u001b[32m   1454\u001b[39m \u001b[33;03m    [\"(Sent1.)\", \"Sent2.\"].\u001b[39;00m\n\u001b[32m   1455\u001b[39m \u001b[33;03m\"\"\"\u001b[39;00m\n\u001b[32m   1456\u001b[39m realign = \u001b[32m0\u001b[39m\n\u001b[32m-> \u001b[39m\u001b[32m1457\u001b[39m \u001b[43m\u001b[49m\u001b[38;5;28;43;01mfor\u001b[39;49;00m\u001b[43m \u001b[49m\u001b[43msentence1\u001b[49m\u001b[43m,\u001b[49m\u001b[43m \u001b[49m\u001b[43msentence2\u001b[49m\u001b[43m \u001b[49m\u001b[38;5;129;43;01min\u001b[39;49;00m\u001b[43m \u001b[49m\u001b[43m_pair_iter\u001b[49m\u001b[43m(\u001b[49m\u001b[43mslices\u001b[49m\u001b[43m)\u001b[49m\u001b[43m:\u001b[49m\n\u001b[32m   1458\u001b[39m \u001b[43m    \u001b[49m\u001b[43msentence1\u001b[49m\u001b[43m \u001b[49m\u001b[43m=\u001b[49m\u001b[43m \u001b[49m\u001b[38;5;28;43mslice\u001b[39;49m\u001b[43m(\u001b[49m\u001b[43msentence1\u001b[49m\u001b[43m.\u001b[49m\u001b[43mstart\u001b[49m\u001b[43m \u001b[49m\u001b[43m+\u001b[49m\u001b[43m \u001b[49m\u001b[43mrealign\u001b[49m\u001b[43m,\u001b[49m\u001b[43m \u001b[49m\u001b[43msentence1\u001b[49m\u001b[43m.\u001b[49m\u001b[43mstop\u001b[49m\u001b[43m)\u001b[49m\n\u001b[32m   1459\u001b[39m \u001b[43m    \u001b[49m\u001b[38;5;28;43;01mif\u001b[39;49;00m\u001b[43m \u001b[49m\u001b[38;5;129;43;01mnot\u001b[39;49;00m\u001b[43m \u001b[49m\u001b[43msentence2\u001b[49m\u001b[43m:\u001b[49m\n",
      "\u001b[36mFile \u001b[39m\u001b[32m/opt/anaconda3/envs/Text_env/lib/python3.12/site-packages/nltk/tokenize/punkt.py:321\u001b[39m, in \u001b[36m_pair_iter\u001b[39m\u001b[34m(iterator)\u001b[39m\n\u001b[32m    319\u001b[39m iterator = \u001b[38;5;28miter\u001b[39m(iterator)\n\u001b[32m    320\u001b[39m \u001b[38;5;28;01mtry\u001b[39;00m:\n\u001b[32m--> \u001b[39m\u001b[32m321\u001b[39m     prev = \u001b[38;5;28;43mnext\u001b[39;49m\u001b[43m(\u001b[49m\u001b[43miterator\u001b[49m\u001b[43m)\u001b[49m\n\u001b[32m    322\u001b[39m \u001b[38;5;28;01mexcept\u001b[39;00m \u001b[38;5;167;01mStopIteration\u001b[39;00m:\n\u001b[32m    323\u001b[39m     \u001b[38;5;28;01mreturn\u001b[39;00m\n",
      "\u001b[36mFile \u001b[39m\u001b[32m/opt/anaconda3/envs/Text_env/lib/python3.12/site-packages/nltk/tokenize/punkt.py:1429\u001b[39m, in \u001b[36mPunktSentenceTokenizer._slices_from_text\u001b[39m\u001b[34m(self, text)\u001b[39m\n\u001b[32m   1427\u001b[39m \u001b[38;5;28;01mdef\u001b[39;00m\u001b[38;5;250m \u001b[39m\u001b[34m_slices_from_text\u001b[39m(\u001b[38;5;28mself\u001b[39m, text: \u001b[38;5;28mstr\u001b[39m) -> Iterator[\u001b[38;5;28mslice\u001b[39m]:\n\u001b[32m   1428\u001b[39m     last_break = \u001b[32m0\u001b[39m\n\u001b[32m-> \u001b[39m\u001b[32m1429\u001b[39m \u001b[43m    \u001b[49m\u001b[38;5;28;43;01mfor\u001b[39;49;00m\u001b[43m \u001b[49m\u001b[43mmatch\u001b[49m\u001b[43m,\u001b[49m\u001b[43m \u001b[49m\u001b[43mcontext\u001b[49m\u001b[43m \u001b[49m\u001b[38;5;129;43;01min\u001b[39;49;00m\u001b[43m \u001b[49m\u001b[38;5;28;43mself\u001b[39;49m\u001b[43m.\u001b[49m\u001b[43m_match_potential_end_contexts\u001b[49m\u001b[43m(\u001b[49m\u001b[43mtext\u001b[49m\u001b[43m)\u001b[49m\u001b[43m:\u001b[49m\n\u001b[32m   1430\u001b[39m \u001b[43m        \u001b[49m\u001b[38;5;28;43;01mif\u001b[39;49;00m\u001b[43m \u001b[49m\u001b[38;5;28;43mself\u001b[39;49m\u001b[43m.\u001b[49m\u001b[43mtext_contains_sentbreak\u001b[49m\u001b[43m(\u001b[49m\u001b[43mcontext\u001b[49m\u001b[43m)\u001b[49m\u001b[43m:\u001b[49m\n\u001b[32m   1431\u001b[39m \u001b[43m            \u001b[49m\u001b[38;5;28;43;01myield\u001b[39;49;00m\u001b[43m \u001b[49m\u001b[38;5;28;43mslice\u001b[39;49m\u001b[43m(\u001b[49m\u001b[43mlast_break\u001b[49m\u001b[43m,\u001b[49m\u001b[43m \u001b[49m\u001b[43mmatch\u001b[49m\u001b[43m.\u001b[49m\u001b[43mend\u001b[49m\u001b[43m(\u001b[49m\u001b[43m)\u001b[49m\u001b[43m)\u001b[49m\n",
      "\u001b[36mFile \u001b[39m\u001b[32m/opt/anaconda3/envs/Text_env/lib/python3.12/site-packages/nltk/tokenize/punkt.py:1394\u001b[39m, in \u001b[36mPunktSentenceTokenizer._match_potential_end_contexts\u001b[39m\u001b[34m(self, text)\u001b[39m\n\u001b[32m   1392\u001b[39m previous_slice = \u001b[38;5;28mslice\u001b[39m(\u001b[32m0\u001b[39m, \u001b[32m0\u001b[39m)\n\u001b[32m   1393\u001b[39m previous_match = \u001b[38;5;28;01mNone\u001b[39;00m\n\u001b[32m-> \u001b[39m\u001b[32m1394\u001b[39m \u001b[38;5;28;01mfor\u001b[39;00m match \u001b[38;5;129;01min\u001b[39;00m \u001b[38;5;28;43mself\u001b[39;49m\u001b[43m.\u001b[49m\u001b[43m_lang_vars\u001b[49m\u001b[43m.\u001b[49m\u001b[43mperiod_context_re\u001b[49m\u001b[43m(\u001b[49m\u001b[43m)\u001b[49m\u001b[43m.\u001b[49m\u001b[43mfinditer\u001b[49m\u001b[43m(\u001b[49m\u001b[43mtext\u001b[49m\u001b[43m)\u001b[49m:\n\u001b[32m   1395\u001b[39m     \u001b[38;5;66;03m# Get the slice of the previous word\u001b[39;00m\n\u001b[32m   1396\u001b[39m     before_text = text[previous_slice.stop : match.start()]\n\u001b[32m   1397\u001b[39m     index_after_last_space = \u001b[38;5;28mself\u001b[39m._get_last_whitespace_index(before_text)\n",
      "\u001b[31mTypeError\u001b[39m: expected string or bytes-like object, got 'list'"
     ]
    }
   ],
   "source": [
    "# Test preprocessing on sample texts\n",
    "test_texts = sample_texts[:5]\n",
    "\n",
    "# Apply different preprocessing approaches\n",
    "processed_lemma = preprocessor_lemma.preprocess(test_texts)\n",
    "processed_stem = preprocessor_stem.preprocess(test_texts)\n",
    "processed_both = preprocessor_both.preprocess(test_texts)\n",
    "\n",
    "# Compare results\n",
    "for i, (raw, lemma, stem, both) in enumerate(zip(test_texts, processed_lemma, processed_stem, processed_both), 1):\n",
    "    print(f\"\\n=== Text {i} ===\")\n",
    "    print(f\"Raw ({len(raw.split())} words): {raw[:100]}...\")\n",
    "    print(f\"Lemmatized ({len(lemma)} tokens): {' '.join(lemma[:15])}...\")\n",
    "    print(f\"Stemmed ({len(stem)} tokens): {' '.join(stem[:15])}...\")\n",
    "    print(f\"Both ({len(both)} tokens): {' '.join(both[:15])}...\")"
   ]
  },
  {
   "cell_type": "markdown",
   "metadata": {},
   "source": [
    "## Full Dataset Preprocessing Analysis"
   ]
  },
  {
   "cell_type": "code",
   "execution_count": null,
   "metadata": {},
   "outputs": [],
   "source": [
    "# Process a subset for analysis (first 1000 samples to avoid memory issues)\n",
    "subset_size = 1000\n",
    "subset_texts = data_train['text'].head(subset_size).tolist()\n",
    "\n",
    "processed_subset = preprocessor_lemma.preprocess(subset_texts)\n",
    "\n",
    "# Calculate token counts after preprocessing\n",
    "token_counts = [len(tokens) for tokens in processed_subset]\n",
    "\n",
    "print(f\"\\nToken count statistics after preprocessing:\")\n",
    "print(f\"Mean: {np.mean(token_counts):.2f}\")\n",
    "print(f\"Median: {np.median(token_counts):.2f}\")\n",
    "print(f\"Min: {np.min(token_counts)}\")\n",
    "print(f\"Max: {np.max(token_counts)}\")"
   ]
  },
  {
   "cell_type": "code",
   "execution_count": null,
   "metadata": {},
   "outputs": [],
   "source": [
    "# Compare word counts before and after preprocessing\n",
    "raw_word_counts = [len(text.split()) for text in subset_texts]\n",
    "\n",
    "plt.figure(figsize=(12, 5))\n",
    "\n",
    "plt.subplot(1, 2, 1)\n",
    "plt.hist(raw_word_counts, bins=30, alpha=0.7, label='Raw', color='lightcoral')\n",
    "plt.hist(token_counts, bins=30, alpha=0.7, label='Processed', color='lightblue')\n",
    "plt.title('Word/Token Count Comparison')\n",
    "plt.xlabel('Count')\n",
    "plt.ylabel('Frequency')\n",
    "plt.legend()\n",
    "\n",
    "plt.subplot(1, 2, 2)\n",
    "reduction_ratio = [(raw - proc) / raw * 100 for raw, proc in zip(raw_word_counts, token_counts) if raw > 0]\n",
    "plt.hist(reduction_ratio, bins=30, alpha=0.7, color='lightgreen')\n",
    "plt.title('Token Reduction Percentage')\n",
    "plt.xlabel('Reduction %')\n",
    "plt.ylabel('Frequency')\n",
    "\n",
    "plt.tight_layout()\n",
    "plt.show()\n",
    "\n",
    "print(f\"Average token reduction: {np.mean(reduction_ratio):.1f}%\")"
   ]
  },
  {
   "cell_type": "markdown",
   "metadata": {},
   "source": [
    "## Vocabulary Analysis"
   ]
  },
  {
   "cell_type": "code",
   "execution_count": null,
   "metadata": {},
   "outputs": [],
   "source": [
    "# Flatten all tokens and analyze vocabulary\n",
    "all_tokens = [token for tokens in processed_subset for token in tokens]\n",
    "tokens_to_remove = preprocessor_stem.get_normalized_patterns()\n",
    "# Remove specified tokens\n",
    "all_tokens = [token for token in all_tokens if token not in tokens_to_remove]\n",
    "\n",
    "\n",
    "vocab_counter = Counter(all_tokens)\n",
    "\n",
    "print(f\"Total tokens: {len(all_tokens):,}\")\n",
    "print(f\"Unique tokens (vocabulary size): {len(vocab_counter):,}\")\n",
    "print(f\"Vocabulary richness: {len(vocab_counter)/len(all_tokens):.4f}\")\n",
    "\n",
    "# Most common tokens\n",
    "print(f\"\\nTop 20 most common tokens:\")\n",
    "for token, count in vocab_counter.most_common(20):\n",
    "    print(f\"{token}: {count}\")"
   ]
  },
  {
   "cell_type": "code",
   "execution_count": null,
   "metadata": {},
   "outputs": [],
   "source": [
    "tokens_to_remove"
   ]
  },
  {
   "cell_type": "code",
   "execution_count": null,
   "metadata": {},
   "outputs": [],
   "source": [
    "# Token frequency distribution\n",
    "token_frequencies = list(vocab_counter.values())\n",
    "\n",
    "plt.figure(figsize=(12, 4))\n",
    "\n",
    "plt.subplot(1, 3, 1)\n",
    "plt.hist(token_frequencies, bins=50, alpha=0.7, color='gold')\n",
    "plt.title('Token Frequency Distribution')\n",
    "plt.xlabel('Frequency')\n",
    "plt.ylabel('Number of Tokens')\n",
    "plt.yscale('log')\n",
    "\n",
    "plt.subplot(1, 3, 2)\n",
    "# Rank-frequency plot (Zipf's law)\n",
    "ranks = range(1, len(token_frequencies) + 1)\n",
    "sorted_frequencies = sorted(token_frequencies, reverse=True)\n",
    "plt.loglog(ranks, sorted_frequencies, alpha=0.7, color='purple')\n",
    "plt.title('Rank-Frequency Plot')\n",
    "plt.xlabel('Rank')\n",
    "plt.ylabel('Frequency')\n",
    "\n",
    "plt.subplot(1, 3, 3)\n",
    "# Top 30 tokens bar plot\n",
    "top_tokens = vocab_counter.most_common(30)\n",
    "tokens, counts = zip(*top_tokens)\n",
    "plt.barh(range(len(tokens)), counts, color='lightsteelblue')\n",
    "plt.yticks(range(len(tokens)), tokens)\n",
    "plt.title('Top 30 Tokens')\n",
    "plt.xlabel('Frequency')\n",
    "plt.gca().invert_yaxis()\n",
    "\n",
    "plt.tight_layout()\n",
    "plt.show()"
   ]
  },
  {
   "cell_type": "code",
   "execution_count": null,
   "metadata": {},
   "outputs": [],
   "source": [
    "vocab_counter"
   ]
  },
  {
   "cell_type": "markdown",
   "metadata": {},
   "source": [
    "This plot tests Zipf's Law, which states that in natural language:\n",
    "\n",
    "The most frequent word appears about twice as often as the 2nd most frequent\n",
    "Three times as often as the 3rd most frequent\n",
    "And so on...\n",
    "In a log-log plot, Zipf's Law appears as a straight line with negative slope (approximately -1).\n",
    "\n",
    "Interpretation:\n",
    "Straight diagonal line: Your text follows Zipf's Law (typical for natural language)\n",
    "Curved or irregular line: Deviation from expected language patterns\n",
    "Steep slope: High concentration of frequent words\n",
    "Gentle slope: More even distribution of word frequencies\n",
    "This analysis helps you understand the vocabulary distribution in your preprocessed text data and validate that your preprocessing maintains natural language characteristics."
   ]
  },
  {
   "cell_type": "markdown",
   "metadata": {},
   "source": [
    "## Word Clouds Comparison"
   ]
  },
  {
   "cell_type": "code",
   "execution_count": null,
   "metadata": {},
   "outputs": [],
   "source": [
    "# Create word clouds for raw vs processed text\n",
    "raw_text = ' '.join(subset_texts).lower()\n",
    "processed_text = ' '.join(all_tokens)\n",
    "\n",
    "plt.figure(figsize=(15, 6))\n",
    "\n",
    "# Raw text word cloud\n",
    "plt.subplot(1, 2, 1)\n",
    "raw_wc = WordCloud(width=600, height=400, background_color='white', max_words=100).generate(raw_text)\n",
    "plt.imshow(raw_wc, interpolation='bilinear')\n",
    "plt.axis('off')\n",
    "plt.title('Word Cloud - Raw Text', fontsize=14)\n",
    "\n",
    "# Processed text word cloud\n",
    "plt.subplot(1, 2, 2)\n",
    "processed_wc = WordCloud(width=600, height=400, background_color='white', max_words=100).generate(processed_text)\n",
    "plt.imshow(processed_wc, interpolation='bilinear')\n",
    "plt.axis('off')\n",
    "plt.title('Word Cloud - Processed Text', fontsize=14)\n",
    "\n",
    "plt.tight_layout()\n",
    "plt.show()"
   ]
  },
  {
   "cell_type": "markdown",
   "metadata": {},
   "source": [
    "## Preprocessing Pattern Detection"
   ]
  },
  {
   "cell_type": "code",
   "execution_count": null,
   "metadata": {},
   "outputs": [],
   "source": [
    "# Test specific preprocessing patterns\n",
    "test_patterns = [\n",
    "    \"Check out this amazing deal at $50.99! Visit https://example.com for more info #sale @company\",\n",
    "    \"The stock $AAPL is trading at €150.00. What a wonderful day!!!\",\n",
    "    \"Follow @username for updates. #investing #stocks www.example.com\",\n",
    "    \"This costs $25,000 approximately. Really expensive!!!\"\n",
    "]\n",
    "\n",
    "print(\"Pattern replacement testing:\")\n",
    "for i, text in enumerate(test_patterns, 1):\n",
    "    processed = preprocessor_lemma.preprocess([text])[0]\n",
    "    print(f\"\\n{i}. Original: {text}\")\n",
    "    print(f\"   Processed: {' '.join(processed)}\")"
   ]
  },
  {
   "cell_type": "markdown",
   "metadata": {},
   "source": [
    "## Performance Analysis"
   ]
  },
  {
   "cell_type": "code",
   "execution_count": null,
   "metadata": {},
   "outputs": [],
   "source": [
    "import time\n",
    "\n",
    "# Performance comparison between different preprocessing approaches\n",
    "test_batch = data_train['text'].head(100).tolist()\n",
    "\n",
    "# Test different configurations\n",
    "configs = [\n",
    "    ('Lemmatization only', Preprocessing(lemmatize=True, stem=False)),\n",
    "    ('Stemming only', Preprocessing(lemmatize=False, stem=True)),\n",
    "    ('Both', Preprocessing(lemmatize=True, stem=True)),\n",
    "    ('Neither', Preprocessing(lemmatize=False, stem=False))\n",
    "]\n",
    "\n",
    "results = []\n",
    "for name, preprocessor in configs:\n",
    "    start_time = time.time()\n",
    "    processed = preprocessor.preprocess(test_batch)\n",
    "    end_time = time.time()\n",
    "    \n",
    "    avg_tokens = np.mean([len(tokens) for tokens in processed])\n",
    "    processing_time = end_time - start_time\n",
    "    \n",
    "    results.append({\n",
    "        'Configuration': name,\n",
    "        'Processing Time (s)': processing_time,\n",
    "        'Avg Tokens per Text': avg_tokens,\n",
    "        'Texts per Second': len(test_batch) / processing_time\n",
    "    })\n",
    "\n",
    "results_df = pd.DataFrame(results)\n",
    "print(\"Performance Comparison:\")\n",
    "print(results_df.round(3))"
   ]
  },
  {
   "cell_type": "code",
   "execution_count": null,
   "metadata": {},
   "outputs": [],
   "source": [
    "# Visualize performance results\n",
    "fig, ((ax1, ax2), (ax3, ax4)) = plt.subplots(2, 2, figsize=(12, 8))\n",
    "\n",
    "# Processing time\n",
    "ax1.bar(results_df['Configuration'], results_df['Processing Time (s)'], color='lightcoral')\n",
    "ax1.set_title('Processing Time by Configuration')\n",
    "ax1.set_ylabel('Time (seconds)')\n",
    "ax1.tick_params(axis='x', rotation=45)\n",
    "\n",
    "# Average tokens\n",
    "ax2.bar(results_df['Configuration'], results_df['Avg Tokens per Text'], color='lightblue')\n",
    "ax2.set_title('Average Tokens per Text')\n",
    "ax2.set_ylabel('Token Count')\n",
    "ax2.tick_params(axis='x', rotation=45)\n",
    "\n",
    "# Throughput\n",
    "ax3.bar(results_df['Configuration'], results_df['Texts per Second'], color='lightgreen')\n",
    "ax3.set_title('Processing Throughput')\n",
    "ax3.set_ylabel('Texts per Second')\n",
    "ax3.tick_params(axis='x', rotation=45)\n",
    "\n",
    "# Summary table\n",
    "ax4.axis('tight')\n",
    "ax4.axis('off')\n",
    "table = ax4.table(cellText=results_df.round(3).values, \n",
    "                  colLabels=results_df.columns,\n",
    "                  cellLoc='center',\n",
    "                  loc='center')\n",
    "table.auto_set_font_size(False)\n",
    "table.set_fontsize(8)\n",
    "ax4.set_title('Performance Summary')\n",
    "\n",
    "plt.tight_layout()\n",
    "plt.show()"
   ]
  },
  {
   "cell_type": "markdown",
   "metadata": {},
   "source": [
    "## Summary and Recommendations"
   ]
  },
  {
   "cell_type": "code",
   "execution_count": null,
   "metadata": {},
   "outputs": [],
   "source": [
    "print(\"=== PREPROCESSING ANALYSIS SUMMARY ===\")\n",
    "print(f\"\\n Dataset Overview:\")\n",
    "print(f\"   • Total samples analyzed: {subset_size}\")\n",
    "print(f\"   • Average raw word count: {np.mean(raw_word_counts):.1f}\")\n",
    "print(f\"   • Average processed token count: {np.mean(token_counts):.1f}\")\n",
    "\n",
    "print(f\"\\n Vocabulary Analysis:\")\n",
    "print(f\"   • Total tokens: {len(all_tokens):,}\")\n",
    "print(f\"   • Unique vocabulary: {len(vocab_counter):,}\")\n",
    "print(f\"   • Vocabulary richness: {len(vocab_counter)/len(all_tokens):.4f}\")\n",
    "\n",
    "print(f\"\\n Performance Insights:\")\n",
    "best_throughput = results_df.loc[results_df['Texts per Second'].idxmax()]\n",
    "print(f\"   • Fastest configuration: {best_throughput['Configuration']}\")\n",
    "print(f\"   • Best throughput: {best_throughput['Texts per Second']:.1f} texts/second\")\n",
    "\n",
    "print(f\"\\n Recommendations:\")\n",
    "print(f\"   • Average token reduction: {np.mean(reduction_ratio):.1f}%\")"
   ]
  }
 ],
 "metadata": {
  "kernelspec": {
   "display_name": "Text_env",
   "language": "python",
   "name": "python3"
  },
  "language_info": {
   "codemirror_mode": {
    "name": "ipython",
    "version": 3
   },
   "file_extension": ".py",
   "mimetype": "text/x-python",
   "name": "python",
   "nbconvert_exporter": "python",
   "pygments_lexer": "ipython3",
   "version": "3.12.10"
  }
 },
 "nbformat": 4,
 "nbformat_minor": 4
}
