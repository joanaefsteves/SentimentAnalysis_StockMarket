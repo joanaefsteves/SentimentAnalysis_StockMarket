{
 "cells": [
  {
   "cell_type": "code",
   "execution_count": 1,
   "id": "276d69c8",
   "metadata": {},
   "outputs": [
    {
     "name": "stderr",
     "output_type": "stream",
     "text": [
      "/Users/joanaesteves/Desktop/MDSAA-DS/S2/T4/TM/.TM_Project/lib/python3.11/site-packages/tqdm/auto.py:21: TqdmWarning: IProgress not found. Please update jupyter and ipywidgets. See https://ipywidgets.readthedocs.io/en/stable/user_install.html\n",
      "  from .autonotebook import tqdm as notebook_tqdm\n"
     ]
    }
   ],
   "source": [
    "# General\n",
    "import numpy as np\n",
    "import pandas as pd\n",
    "\n",
    "# Model\n",
    "import torch.nn.functional as F\n",
    "import torch\n",
    "import torch.nn as nn\n",
    "from transformers import AutoTokenizer, AutoModelForSequenceClassification, TrainingArguments, EarlyStoppingCallback, Trainer\n",
    "from datasets import Dataset, DatasetDict\n",
    "\n",
    "# Imbalance\n",
    "from sklearn.utils.class_weight import compute_class_weight\n",
    "\n",
    "# Evaluation\n",
    "from sklearn.model_selection import train_test_split\n",
    "from sklearn.metrics import accuracy_score, f1_score, precision_score, recall_score\n",
    "from sklearn.metrics import classification_report\n",
    "\n",
    "import warnings\n",
    "warnings.filterwarnings(\"ignore\")"
   ]
  },
  {
   "cell_type": "code",
   "execution_count": 2,
   "id": "85cfc153",
   "metadata": {},
   "outputs": [],
   "source": [
    "import sys\n",
    "import os\n",
    "sys.path.append(os.path.abspath('..'))\n",
    "\n",
    "# Preprocess\n",
    "from src.preprocessing import PreprocessingPretrained"
   ]
  },
  {
   "cell_type": "code",
   "execution_count": 3,
   "id": "2c370e7a",
   "metadata": {},
   "outputs": [],
   "source": [
    "# Load data\n",
    "train_df = pd.read_csv('../Data/train.csv')"
   ]
  },
  {
   "cell_type": "code",
   "execution_count": 4,
   "id": "356771e3",
   "metadata": {},
   "outputs": [
    {
     "name": "stdout",
     "output_type": "stream",
     "text": [
      "Training set size: 7634\n",
      "Test set size: 1909\n",
      "Training label distribution:\n",
      "label\n",
      "2    4942\n",
      "1    1538\n",
      "0    1154\n",
      "Name: count, dtype: int64\n"
     ]
    }
   ],
   "source": [
    "# Split data\n",
    "X_train, X_test, y_train, y_test = train_test_split(\n",
    "    train_df['text'], train_df['label'], \n",
    "    test_size=0.2, stratify=train_df['label'], random_state=42\n",
    ")\n",
    "\n",
    "print(f\"Training set size: {len(X_train)}\")\n",
    "print(f\"Test set size: {len(X_test)}\")\n",
    "print(f\"Training label distribution:\\n{pd.Series(y_train).value_counts()}\")"
   ]
  },
  {
   "cell_type": "code",
   "execution_count": 5,
   "id": "68154141",
   "metadata": {},
   "outputs": [],
   "source": [
    "# Light preprocessing\n",
    "preprocessor = PreprocessingPretrained(translate=True)\n",
    "\n",
    "X_train = preprocessor.preprocess(X_train)"
   ]
  },
  {
   "cell_type": "code",
   "execution_count": 6,
   "id": "19cf7520",
   "metadata": {},
   "outputs": [],
   "source": [
    "# Set labels \n",
    "label2id = {\"bearish\": 0, \"bullish\": 1, \"neutral\": 2}\n",
    "id2label = {0: \"bearish\", 1: \"bullish\", 2: \"neutral\"}"
   ]
  },
  {
   "cell_type": "code",
   "execution_count": 7,
   "id": "0be38919",
   "metadata": {},
   "outputs": [],
   "source": [
    "device = torch.device(\"cuda\" if torch.cuda.is_available() else \"cpu\")"
   ]
  },
  {
   "cell_type": "code",
   "execution_count": 8,
   "id": "37edb69d",
   "metadata": {},
   "outputs": [
    {
     "name": "stdout",
     "output_type": "stream",
     "text": [
      "[2.20508377 1.65452969 0.51490625]\n"
     ]
    }
   ],
   "source": [
    "# Compute class weights\n",
    "class_weights_np = compute_class_weight('balanced', classes=np.unique(y_train), y=y_train)\n",
    "class_weights = torch.tensor(class_weights_np, dtype=torch.float).to(device)\n",
    "\n",
    "print(class_weights_np)"
   ]
  },
  {
   "cell_type": "code",
   "execution_count": 9,
   "id": "bbc373ee",
   "metadata": {},
   "outputs": [],
   "source": [
    "# Load model and tokenizer - finbert trained on financial data\n",
    "model_name = \"yiyanghkust/finbert-tone\"\n",
    "model = AutoModelForSequenceClassification.from_pretrained(model_name, num_labels=3, id2label=id2label, label2id=label2id)\n",
    "tokenizer = AutoTokenizer.from_pretrained(model_name)"
   ]
  },
  {
   "cell_type": "code",
   "execution_count": 10,
   "id": "d6c324ed",
   "metadata": {},
   "outputs": [
    {
     "name": "stdout",
     "output_type": "stream",
     "text": [
      "BertForSequenceClassification(\n",
      "  (bert): BertModel(\n",
      "    (embeddings): BertEmbeddings(\n",
      "      (word_embeddings): Embedding(30873, 768, padding_idx=0)\n",
      "      (position_embeddings): Embedding(512, 768)\n",
      "      (token_type_embeddings): Embedding(2, 768)\n",
      "      (LayerNorm): LayerNorm((768,), eps=1e-12, elementwise_affine=True)\n",
      "      (dropout): Dropout(p=0.1, inplace=False)\n",
      "    )\n",
      "    (encoder): BertEncoder(\n",
      "      (layer): ModuleList(\n",
      "        (0-11): 12 x BertLayer(\n",
      "          (attention): BertAttention(\n",
      "            (self): BertSdpaSelfAttention(\n",
      "              (query): Linear(in_features=768, out_features=768, bias=True)\n",
      "              (key): Linear(in_features=768, out_features=768, bias=True)\n",
      "              (value): Linear(in_features=768, out_features=768, bias=True)\n",
      "              (dropout): Dropout(p=0.1, inplace=False)\n",
      "            )\n",
      "            (output): BertSelfOutput(\n",
      "              (dense): Linear(in_features=768, out_features=768, bias=True)\n",
      "              (LayerNorm): LayerNorm((768,), eps=1e-12, elementwise_affine=True)\n",
      "              (dropout): Dropout(p=0.1, inplace=False)\n",
      "            )\n",
      "          )\n",
      "          (intermediate): BertIntermediate(\n",
      "            (dense): Linear(in_features=768, out_features=3072, bias=True)\n",
      "            (intermediate_act_fn): GELUActivation()\n",
      "          )\n",
      "          (output): BertOutput(\n",
      "            (dense): Linear(in_features=3072, out_features=768, bias=True)\n",
      "            (LayerNorm): LayerNorm((768,), eps=1e-12, elementwise_affine=True)\n",
      "            (dropout): Dropout(p=0.1, inplace=False)\n",
      "          )\n",
      "        )\n",
      "      )\n",
      "    )\n",
      "    (pooler): BertPooler(\n",
      "      (dense): Linear(in_features=768, out_features=768, bias=True)\n",
      "      (activation): Tanh()\n",
      "    )\n",
      "  )\n",
      "  (dropout): Dropout(p=0.1, inplace=False)\n",
      "  (classifier): Linear(in_features=768, out_features=3, bias=True)\n",
      ")\n"
     ]
    }
   ],
   "source": [
    "# Freeze body \n",
    "for param in model.bert.parameters():\n",
    "    param.requires_grad = False\n",
    "\n",
    "print(model)"
   ]
  },
  {
   "cell_type": "code",
   "execution_count": 11,
   "id": "37840a26",
   "metadata": {},
   "outputs": [],
   "source": [
    "# Create DatasetDict - format needed for pre trained model \n",
    "train_df = pd.DataFrame({'text': X_train, 'label': y_train})\n",
    "test_df = pd.DataFrame({'text': X_test, 'label': y_test})\n",
    "\n",
    "train_dataset = Dataset.from_pandas(train_df)\n",
    "test_dataset = Dataset.from_pandas(test_df)\n",
    "\n",
    "datasets = DatasetDict({\n",
    "    'train': train_dataset,\n",
    "    'test': test_dataset,\n",
    "})"
   ]
  },
  {
   "cell_type": "code",
   "execution_count": 12,
   "id": "5c4874d9",
   "metadata": {},
   "outputs": [
    {
     "name": "stdout",
     "output_type": "stream",
     "text": [
      "Max tokenized length: 82\n",
      "Average tokenized length: 28.33625884202253\n"
     ]
    }
   ],
   "source": [
    "texts = train_df['text'].tolist()  \n",
    "\n",
    "# Check lengths of tokenized sequences\n",
    "tokenized_lengths = [len(tokenizer.encode(text)) for text in texts]\n",
    "\n",
    "print(\"Max tokenized length:\", max(tokenized_lengths))\n",
    "print(\"Average tokenized length:\", sum(tokenized_lengths) / len(tokenized_lengths))\n"
   ]
  },
  {
   "cell_type": "code",
   "execution_count": 13,
   "id": "b52673e2",
   "metadata": {},
   "outputs": [
    {
     "name": "stderr",
     "output_type": "stream",
     "text": [
      "Map:   0%|          | 0/7634 [00:00<?, ? examples/s]huggingface/tokenizers: The current process just got forked, after parallelism has already been used. Disabling parallelism to avoid deadlocks...\n",
      "To disable this warning, you can either:\n",
      "\t- Avoid using `tokenizers` before the fork if possible\n",
      "\t- Explicitly set the environment variable TOKENIZERS_PARALLELISM=(true | false)\n",
      "Map: 100%|██████████| 7634/7634 [00:00<00:00, 22238.35 examples/s]\n",
      "Map: 100%|██████████| 1909/1909 [00:00<00:00, 32983.16 examples/s]\n"
     ]
    }
   ],
   "source": [
    "# Tokenize\n",
    "\n",
    "tokenized_datasets = datasets.map(lambda examples: tokenizer(examples['text'], padding=\"max_length\", truncation=True, max_length=82), batched=True)"
   ]
  },
  {
   "cell_type": "code",
   "execution_count": 14,
   "id": "ad2593b7",
   "metadata": {},
   "outputs": [],
   "source": [
    "# Define custom metrics\n",
    "def compute_metrics(eval_pred):\n",
    "    logits, labels = eval_pred\n",
    "    preds = logits.argmax(axis=1)\n",
    "    return {\n",
    "        \"accuracy\": accuracy_score(labels, preds),\n",
    "        \"precision\": precision_score(labels, preds, average=\"macro\"),\n",
    "        \"recall\": recall_score(labels, preds, average=\"macro\"),\n",
    "        \"f1\": f1_score(labels, preds, average=\"macro\"),\n",
    "    }"
   ]
  },
  {
   "cell_type": "code",
   "execution_count": 15,
   "id": "d9ecae51",
   "metadata": {},
   "outputs": [],
   "source": [
    "# Create loss with weights\n",
    "loss_fn = nn.CrossEntropyLoss(weight=class_weights)\n",
    "\n",
    "# Custom trainer to account for imbalance\n",
    "class WeightedLossTrainer(Trainer):\n",
    "    def __init__(self, *args, class_weights=None, **kwargs):\n",
    "        super().__init__(*args, **kwargs)\n",
    "        if class_weights is not None:\n",
    "            self.class_weights = torch.tensor(class_weights).to(self.model.device)\n",
    "        else:\n",
    "            self.class_weights = None\n",
    "        self.loss_fct = nn.CrossEntropyLoss(weight=self.class_weights)\n",
    "\n",
    "    def compute_loss(self, model, inputs, return_outputs=False, num_items_in_batch=None):\n",
    "        labels = inputs.get(\"labels\")\n",
    "        outputs = model(**inputs)\n",
    "        logits = outputs.get(\"logits\")\n",
    "        loss = self.loss_fct(logits, labels)\n",
    "        return (loss, outputs) if return_outputs else loss"
   ]
  },
  {
   "cell_type": "code",
   "execution_count": 16,
   "id": "139b8c5a",
   "metadata": {},
   "outputs": [],
   "source": [
    "# Define training arguments for fine-tuning FinBERT model\n",
    "training_args = TrainingArguments(\n",
    "    output_dir=\"../logs/finbert-finetuned\",\n",
    "    per_device_train_batch_size=16,\n",
    "    per_device_eval_batch_size=16,\n",
    "    num_train_epochs=5,\n",
    "    learning_rate=0.01,\n",
    "    weight_decay=0.01,\n",
    "    eval_strategy=\"epoch\",\n",
    "    save_strategy=\"epoch\",\n",
    "    logging_dir='./logs',\n",
    "    load_best_model_at_end=True,\n",
    "    metric_for_best_model=\"eval_loss\",\n",
    "    greater_is_better=False # we are minimizing loss\n",
    ")"
   ]
  },
  {
   "cell_type": "code",
   "execution_count": 17,
   "id": "ecbf72f6",
   "metadata": {},
   "outputs": [],
   "source": [
    "# Initialize custom trainer with weighted loss to handle class imbalance\n",
    "trainer = WeightedLossTrainer(\n",
    "    model=model,\n",
    "    args=training_args,\n",
    "    train_dataset=tokenized_datasets['train'],\n",
    "    eval_dataset=tokenized_datasets['test'],\n",
    "    tokenizer=tokenizer,\n",
    "    compute_metrics=compute_metrics,\n",
    "    callbacks=[EarlyStoppingCallback(early_stopping_patience=2)]\n",
    ")"
   ]
  },
  {
   "cell_type": "code",
   "execution_count": 18,
   "id": "082965ca",
   "metadata": {},
   "outputs": [
    {
     "data": {
      "text/html": [
       "\n",
       "    <div>\n",
       "      \n",
       "      <progress value='2390' max='2390' style='width:300px; height:20px; vertical-align: middle;'></progress>\n",
       "      [2390/2390 11:43, Epoch 5/5]\n",
       "    </div>\n",
       "    <table border=\"1\" class=\"dataframe\">\n",
       "  <thead>\n",
       " <tr style=\"text-align: left;\">\n",
       "      <th>Epoch</th>\n",
       "      <th>Training Loss</th>\n",
       "      <th>Validation Loss</th>\n",
       "      <th>Accuracy</th>\n",
       "      <th>Precision</th>\n",
       "      <th>Recall</th>\n",
       "      <th>F1</th>\n",
       "    </tr>\n",
       "  </thead>\n",
       "  <tbody>\n",
       "    <tr>\n",
       "      <td>1</td>\n",
       "      <td>No log</td>\n",
       "      <td>0.958646</td>\n",
       "      <td>0.769513</td>\n",
       "      <td>0.821281</td>\n",
       "      <td>0.584875</td>\n",
       "      <td>0.636648</td>\n",
       "    </tr>\n",
       "    <tr>\n",
       "      <td>2</td>\n",
       "      <td>0.816900</td>\n",
       "      <td>0.545053</td>\n",
       "      <td>0.808277</td>\n",
       "      <td>0.769266</td>\n",
       "      <td>0.709031</td>\n",
       "      <td>0.732238</td>\n",
       "    </tr>\n",
       "    <tr>\n",
       "      <td>3</td>\n",
       "      <td>0.718700</td>\n",
       "      <td>0.546769</td>\n",
       "      <td>0.808277</td>\n",
       "      <td>0.796807</td>\n",
       "      <td>0.687000</td>\n",
       "      <td>0.726999</td>\n",
       "    </tr>\n",
       "    <tr>\n",
       "      <td>4</td>\n",
       "      <td>0.642000</td>\n",
       "      <td>0.506567</td>\n",
       "      <td>0.808277</td>\n",
       "      <td>0.747808</td>\n",
       "      <td>0.757868</td>\n",
       "      <td>0.751528</td>\n",
       "    </tr>\n",
       "    <tr>\n",
       "      <td>5</td>\n",
       "      <td>0.582100</td>\n",
       "      <td>0.482936</td>\n",
       "      <td>0.824515</td>\n",
       "      <td>0.791808</td>\n",
       "      <td>0.737478</td>\n",
       "      <td>0.760917</td>\n",
       "    </tr>\n",
       "  </tbody>\n",
       "</table><p>"
      ],
      "text/plain": [
       "<IPython.core.display.HTML object>"
      ]
     },
     "metadata": {},
     "output_type": "display_data"
    },
    {
     "data": {
      "text/html": [],
      "text/plain": [
       "<IPython.core.display.HTML object>"
      ]
     },
     "metadata": {},
     "output_type": "display_data"
    },
    {
     "name": "stdout",
     "output_type": "stream",
     "text": [
      "              precision    recall  f1-score   support\n",
      "\n",
      "     bearish       0.76      0.62      0.69       288\n",
      "     bullish       0.76      0.67      0.71       385\n",
      "     neutral       0.85      0.92      0.88      1236\n",
      "\n",
      "    accuracy                           0.82      1909\n",
      "   macro avg       0.79      0.74      0.76      1909\n",
      "weighted avg       0.82      0.82      0.82      1909\n",
      "\n"
     ]
    }
   ],
   "source": [
    "# Train\n",
    "trainer.train()\n",
    "\n",
    "# Predict\n",
    "predictions = trainer.predict(tokenized_datasets['test'])\n",
    "\n",
    "# Evaluate \n",
    "preds = np.argmax(predictions.predictions, axis=1)\n",
    "labels = predictions.label_ids\n",
    "print(classification_report(labels, preds, target_names=[\"bearish\", \"bullish\", \"neutral\"]))"
   ]
  }
 ],
 "metadata": {
  "kernelspec": {
   "display_name": ".TM_Project",
   "language": "python",
   "name": "python3"
  },
  "language_info": {
   "codemirror_mode": {
    "name": "ipython",
    "version": 3
   },
   "file_extension": ".py",
   "mimetype": "text/x-python",
   "name": "python",
   "nbconvert_exporter": "python",
   "pygments_lexer": "ipython3",
   "version": "3.11.8"
  }
 },
 "nbformat": 4,
 "nbformat_minor": 5
}
