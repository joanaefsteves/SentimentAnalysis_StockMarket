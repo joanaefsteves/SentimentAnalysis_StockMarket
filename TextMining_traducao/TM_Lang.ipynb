{
  "cells": [
    {
      "cell_type": "markdown",
      "id": "vLmdC8jqCyn6",
      "metadata": {
        "id": "vLmdC8jqCyn6"
      },
      "source": [
        "<div class=\"alert alert-block alert-info\">\n",
        "\n",
        "## <center> <b> Stock Sentiment </center>\n",
        "## <center> Predicting market behavior from tweets </center> <br>\n",
        "##  <center> <b> EDA </center> <br>\n",
        "## <center> Spring Semester 2024-2025 <center>\n",
        "\n",
        "<center> Group 35: <center>\n",
        "<center>José Cavaco, .... <br><center>\n",
        "<center> ?? <br><center>\n",
        "<center>Matilde Miguel, 20240549 <br><center>\n",
        "<center>Joana Esteves, 20240746 <br><center>\n",
        "<center>Rita Serra, 20240515 <br><center>\n",
        "\n",
        "<div>"
      ]
    },
    {
      "cell_type": "markdown",
      "id": "BX_LuwXCGRBG",
      "metadata": {
        "id": "BX_LuwXCGRBG"
      },
      "source": [
        "**Table of Contents**\n",
        "- [1. Import the needed Libraries](#importlibraries)\n",
        "- [2. Import Dataset](#importdataset)\n",
        "- [3. Exploratory Analysis](#section_3)\n",
        "- [4. Preprocessing](#preprocessing)\n"
      ]
    },
    {
      "cell_type": "markdown",
      "id": "hIDoYOoYoqRu",
      "metadata": {
        "id": "hIDoYOoYoqRu"
      },
      "source": [
        "<a class=\"anchor\" id=\"importlibraries\">\n",
        "\n",
        "# 1. Import the needed Libraries\n",
        "\n",
        "</a>"
      ]
    },
    {
      "cell_type": "code",
      "execution_count": 1,
      "id": "2926e492",
      "metadata": {
        "colab": {
          "base_uri": "https://localhost:8080/"
        },
        "id": "2926e492",
        "outputId": "223c13be-9db8-4cc1-939a-525a13a15645"
      },
      "outputs": [],
      "source": [
        "#!pip install langdetect\n",
        "#!pip install transformers sentencepiece\n"
      ]
    },
    {
      "cell_type": "code",
      "execution_count": 2,
      "id": "7df72801",
      "metadata": {
        "id": "7df72801"
      },
      "outputs": [
        {
          "name": "stderr",
          "output_type": "stream",
          "text": [
            "C:\\Users\\Guilherme\\AppData\\Local\\Packages\\PythonSoftwareFoundation.Python.3.12_qbz5n2kfra8p0\\LocalCache\\local-packages\\Python312\\site-packages\\tqdm\\auto.py:21: TqdmWarning: IProgress not found. Please update jupyter and ipywidgets. See https://ipywidgets.readthedocs.io/en/stable/user_install.html\n",
            "  from .autonotebook import tqdm as notebook_tqdm\n"
          ]
        }
      ],
      "source": [
        "import pandas as pd\n",
        "import numpy as np\n",
        "import matplotlib.pyplot as plt\n",
        "import seaborn as sns\n",
        "from wordcloud import WordCloud\n",
        "from langdetect import detect\n",
        "\n",
        "#Preprocessing\n",
        "import re, string\n",
        "from nltk.corpus import stopwords\n",
        "from nltk.stem import WordNetLemmatizer, PorterStemmer\n",
        "from nltk.tokenize import word_tokenize\n",
        "\n",
        "from transformers import pipeline, M2M100ForConditionalGeneration, M2M100Tokenizer, AutoTokenizer, AutoModelForSeq2SeqLM\n",
        "from langdetect import detect"
      ]
    },
    {
      "cell_type": "markdown",
      "id": "qv8vq5ykGkw1",
      "metadata": {
        "id": "qv8vq5ykGkw1"
      },
      "source": [
        "<a class=\"anchor\" id=\"importdataset\">\n",
        "\n",
        "# 2. Import the dataset\n",
        "\n",
        "</a>"
      ]
    },
    {
      "cell_type": "code",
      "execution_count": 3,
      "id": "cf6eb3f1",
      "metadata": {
        "id": "cf6eb3f1"
      },
      "outputs": [],
      "source": [
        "train_df = pd.read_csv('train.csv')\n",
        "test_df = pd.read_csv('test.csv')"
      ]
    },
    {
      "cell_type": "code",
      "execution_count": 4,
      "id": "c4GWQn5wqDkM",
      "metadata": {
        "colab": {
          "base_uri": "https://localhost:8080/"
        },
        "id": "c4GWQn5wqDkM",
        "outputId": "b32a1d62-987d-4523-9cf1-16f92e6bc383"
      },
      "outputs": [
        {
          "data": {
            "application/vnd.microsoft.datawrangler.viewer.v0+json": {
              "columns": [
                {
                  "name": "index",
                  "rawType": "int64",
                  "type": "integer"
                },
                {
                  "name": "text",
                  "rawType": "object",
                  "type": "string"
                },
                {
                  "name": "label",
                  "rawType": "int64",
                  "type": "integer"
                },
                {
                  "name": "language",
                  "rawType": "object",
                  "type": "string"
                }
              ],
              "ref": "be27a9e6-22c9-4c5a-b142-5cb66b70a0d8",
              "rows": [
                [
                  "0",
                  "$BYND - JPMorgan reels in expectations on Beyond Meat https://t.co/bd0xbFGjkT",
                  "0",
                  "en"
                ],
                [
                  "1",
                  "$CCL $RCL - Nomura points to bookings weakness at Carnival and Royal Caribbean https://t.co/yGjpT2ReD3",
                  "0",
                  "en"
                ],
                [
                  "2",
                  "$CX - Cemex cut at Credit Suisse, J.P. Morgan on weak building outlook https://t.co/KN1g4AWFIb",
                  "0",
                  "en"
                ],
                [
                  "3",
                  "$ESS: BTIG Research cuts to Neutral https://t.co/MCyfTsXc2N",
                  "0",
                  "en"
                ],
                [
                  "4",
                  "$FNKO - Funko slides after Piper Jaffray PT cut https://t.co/z37IJmCQzB",
                  "0",
                  "da"
                ]
              ],
              "shape": {
                "columns": 3,
                "rows": 5
              }
            },
            "text/html": [
              "<div>\n",
              "<style scoped>\n",
              "    .dataframe tbody tr th:only-of-type {\n",
              "        vertical-align: middle;\n",
              "    }\n",
              "\n",
              "    .dataframe tbody tr th {\n",
              "        vertical-align: top;\n",
              "    }\n",
              "\n",
              "    .dataframe thead th {\n",
              "        text-align: right;\n",
              "    }\n",
              "</style>\n",
              "<table border=\"1\" class=\"dataframe\">\n",
              "  <thead>\n",
              "    <tr style=\"text-align: right;\">\n",
              "      <th></th>\n",
              "      <th>text</th>\n",
              "      <th>label</th>\n",
              "      <th>language</th>\n",
              "    </tr>\n",
              "  </thead>\n",
              "  <tbody>\n",
              "    <tr>\n",
              "      <th>0</th>\n",
              "      <td>$BYND - JPMorgan reels in expectations on Beyo...</td>\n",
              "      <td>0</td>\n",
              "      <td>en</td>\n",
              "    </tr>\n",
              "    <tr>\n",
              "      <th>1</th>\n",
              "      <td>$CCL $RCL - Nomura points to bookings weakness...</td>\n",
              "      <td>0</td>\n",
              "      <td>en</td>\n",
              "    </tr>\n",
              "    <tr>\n",
              "      <th>2</th>\n",
              "      <td>$CX - Cemex cut at Credit Suisse, J.P. Morgan ...</td>\n",
              "      <td>0</td>\n",
              "      <td>en</td>\n",
              "    </tr>\n",
              "    <tr>\n",
              "      <th>3</th>\n",
              "      <td>$ESS: BTIG Research cuts to Neutral https://t....</td>\n",
              "      <td>0</td>\n",
              "      <td>en</td>\n",
              "    </tr>\n",
              "    <tr>\n",
              "      <th>4</th>\n",
              "      <td>$FNKO - Funko slides after Piper Jaffray PT cu...</td>\n",
              "      <td>0</td>\n",
              "      <td>da</td>\n",
              "    </tr>\n",
              "  </tbody>\n",
              "</table>\n",
              "</div>"
            ],
            "text/plain": [
              "                                                text  label language\n",
              "0  $BYND - JPMorgan reels in expectations on Beyo...      0       en\n",
              "1  $CCL $RCL - Nomura points to bookings weakness...      0       en\n",
              "2  $CX - Cemex cut at Credit Suisse, J.P. Morgan ...      0       en\n",
              "3  $ESS: BTIG Research cuts to Neutral https://t....      0       en\n",
              "4  $FNKO - Funko slides after Piper Jaffray PT cu...      0       da"
            ]
          },
          "execution_count": 4,
          "metadata": {},
          "output_type": "execute_result"
        }
      ],
      "source": [
        "train_df.head()"
      ]
    },
    {
      "cell_type": "markdown",
      "id": "btDPvk-Fr0io",
      "metadata": {
        "id": "btDPvk-Fr0io"
      },
      "source": [
        "<a class=\"anchor\" id=\"section_3\">\n",
        "\n",
        "# 3. Exploratory Analysis\n",
        "\n",
        "</a>"
      ]
    },
    {
      "cell_type": "code",
      "execution_count": 5,
      "id": "ybcMqC2csZPy",
      "metadata": {
        "colab": {
          "base_uri": "https://localhost:8080/"
        },
        "id": "ybcMqC2csZPy",
        "outputId": "1b6e81d2-8664-49be-a553-691280e5defc"
      },
      "outputs": [
        {
          "data": {
            "text/plain": [
              "(9543, 3)"
            ]
          },
          "execution_count": 5,
          "metadata": {},
          "output_type": "execute_result"
        }
      ],
      "source": [
        "train_df.shape"
      ]
    },
    {
      "cell_type": "markdown",
      "id": "slJn2V2E07PD",
      "metadata": {
        "id": "slJn2V2E07PD"
      },
      "source": [
        "### Missing Values"
      ]
    },
    {
      "cell_type": "code",
      "execution_count": 6,
      "id": "0M56G_uR4--k",
      "metadata": {
        "colab": {
          "base_uri": "https://localhost:8080/"
        },
        "id": "0M56G_uR4--k",
        "outputId": "e0c8fb89-c0e4-4910-cff9-fff14a80fc5d"
      },
      "outputs": [
        {
          "data": {
            "application/vnd.microsoft.datawrangler.viewer.v0+json": {
              "columns": [
                {
                  "name": "index",
                  "rawType": "object",
                  "type": "string"
                },
                {
                  "name": "0",
                  "rawType": "int64",
                  "type": "integer"
                }
              ],
              "ref": "45b07069-4794-4d1e-8390-7af58e4f16fe",
              "rows": [
                [
                  "text",
                  "0"
                ],
                [
                  "label",
                  "0"
                ],
                [
                  "language",
                  "0"
                ]
              ],
              "shape": {
                "columns": 1,
                "rows": 3
              }
            },
            "text/plain": [
              "text        0\n",
              "label       0\n",
              "language    0\n",
              "dtype: int64"
            ]
          },
          "execution_count": 6,
          "metadata": {},
          "output_type": "execute_result"
        }
      ],
      "source": [
        "train_df.isna().sum()"
      ]
    },
    {
      "cell_type": "markdown",
      "id": "078f6360",
      "metadata": {},
      "source": [
        "<a class=\"anchor\" id=\"preprocessing\">\n",
        "\n",
        "# 4. Preprocessing\n",
        "\n",
        "</a>"
      ]
    },
    {
      "cell_type": "markdown",
      "id": "ea221744",
      "metadata": {
        "id": "ea221744"
      },
      "source": [
        "### Languages"
      ]
    },
    {
      "cell_type": "code",
      "execution_count": 7,
      "id": "1af4872e",
      "metadata": {},
      "outputs": [],
      "source": [
        "def detect_language(text):\n",
        "    try:\n",
        "        return detect(text)\n",
        "    except:\n",
        "        return \"unknown\""
      ]
    },
    {
      "cell_type": "code",
      "execution_count": 8,
      "id": "8e8d7c49",
      "metadata": {},
      "outputs": [],
      "source": [
        "train_df['language'] = train_df['text'].apply(detect_language)\n",
        "test_df['language'] = test_df['text'].apply(detect_language)"
      ]
    },
    {
      "cell_type": "code",
      "execution_count": 9,
      "id": "b1434f7a",
      "metadata": {
        "colab": {
          "base_uri": "https://localhost:8080/"
        },
        "id": "b1434f7a",
        "outputId": "0c17684b-5ee2-4256-9f55-af1aa5013028"
      },
      "outputs": [
        {
          "name": "stdout",
          "output_type": "stream",
          "text": [
            "language\n",
            "en         8840\n",
            "ca          115\n",
            "de          111\n",
            "es           88\n",
            "fr           84\n",
            "sv           58\n",
            "da           43\n",
            "no           36\n",
            "nl           33\n",
            "it           26\n",
            "af           23\n",
            "tl           17\n",
            "pt           13\n",
            "et            9\n",
            "id            9\n",
            "pl            7\n",
            "vi            5\n",
            "unknown       4\n",
            "ro            4\n",
            "fi            2\n",
            "sl            2\n",
            "sw            2\n",
            "hu            2\n",
            "so            2\n",
            "cy            2\n",
            "cs            1\n",
            "zh-cn         1\n",
            "hr            1\n",
            "sk            1\n",
            "ja            1\n",
            "sq            1\n",
            "Name: count, dtype: int64\n"
          ]
        }
      ],
      "source": [
        "train_df.to_csv('train.csv', index=False)\n",
        "test_df.to_csv('test.csv', index=False)\n",
        "\n",
        "print(train_df['language'].value_counts())"
      ]
    },
    {
      "cell_type": "code",
      "execution_count": 10,
      "id": "0addd375",
      "metadata": {},
      "outputs": [
        {
          "name": "stdout",
          "output_type": "stream",
          "text": [
            "language\n",
            "en    2234\n",
            "ca      37\n",
            "es      25\n",
            "fr      20\n",
            "de      15\n",
            "sv      11\n",
            "no       8\n",
            "nl       7\n",
            "tl       6\n",
            "da       5\n",
            "af       5\n",
            "it       4\n",
            "et       3\n",
            "cy       2\n",
            "so       2\n",
            "pl       1\n",
            "pt       1\n",
            "sw       1\n",
            "vi       1\n",
            "Name: count, dtype: int64\n"
          ]
        }
      ],
      "source": [
        "print(test_df['language'].value_counts())"
      ]
    },
    {
      "cell_type": "code",
      "execution_count": 12,
      "id": "e771555c",
      "metadata": {},
      "outputs": [
        {
          "name": "stderr",
          "output_type": "stream",
          "text": [
            "Device set to use cuda:0\n",
            "Device set to use cuda:0\n",
            "Device set to use cuda:0\n"
          ]
        }
      ],
      "source": [
        "# Load translation model\n",
        "def load_translator(model_name):\n",
        "    return pipeline(\"translation\", model=model_name, device=0)  # device=0 for GPU\n",
        "\n",
        "\n",
        "# Function to translate \n",
        "def translate_texts(texts, languages, translators, batch_size=64):    \n",
        "    translated_texts = []\n",
        "\n",
        "    for i in range(0, len(texts), batch_size):\n",
        "        batch_texts = texts[i:i + batch_size]\n",
        "        batch_langs = languages[i:i + batch_size]\n",
        "        \n",
        "        batch_result = []\n",
        "        for text, lang in zip(batch_texts, batch_langs):\n",
        "            if lang == 'en':\n",
        "                batch_result.append(text)  # Already English\n",
        "                continue\n",
        "\n",
        "            translated = None\n",
        "            for translator in translators:\n",
        "                try:\n",
        "                    result = translator(text, max_length=512)\n",
        "                    translated_text = result[0]['translation_text']\n",
        "                    translated = translated_text\n",
        "                    break\n",
        "                except Exception:\n",
        "                    continue  # Try next translator\n",
        "\n",
        "            batch_result.append(translated if translated else text)  # Fallback to original if all fail\n",
        "        \n",
        "        translated_texts.extend(batch_result)\n",
        "    \n",
        "    return translated_texts\n",
        "\n",
        "\n",
        "#  Translate and save datasets\n",
        "def translate_and_save(train_path, test_path, model_names,\n",
        "                       train_out='train_translated.csv', test_out='test_translated.csv'):\n",
        "    translators = [load_translator(name) for name in model_names]\n",
        "    \n",
        "    train_df = pd.read_csv(train_path)\n",
        "    test_df = pd.read_csv(test_path)\n",
        "\n",
        "\n",
        "    # Translate train dataset\n",
        "    train_translated = translate_texts(\n",
        "        train_df['text'].tolist(),\n",
        "        train_df['language'].tolist(),\n",
        "        translators)\n",
        "    train_df['text_translated'] = train_translated\n",
        "    train_df['language_translated'] = train_df['text_translated'].apply(detect_language)\n",
        "\n",
        "    # Translate test dataset\n",
        "    test_translated = translate_texts(\n",
        "        test_df['text'].tolist(),\n",
        "        test_df['language'].tolist(),\n",
        "        translators)\n",
        "    test_df['text_translated'] = test_translated\n",
        "    test_df['language_translated'] = test_df['text_translated'].apply(detect_language)\n",
        "\n",
        "    train_df.to_csv(train_out, index=False)\n",
        "    test_df.to_csv(test_out, index=False)\n",
        "\n",
        "# Models \n",
        "model_list = [\n",
        "    'Helsinki-NLP/opus-mt-mul-en',\n",
        "    'facebook/m2m100_418M',\n",
        "    'facebook/nllb-200-distilled-600M']\n",
        "\n",
        "translate_and_save('train.csv', 'test.csv', model_names=model_list)"
      ]
    },
    {
      "cell_type": "code",
      "execution_count": 13,
      "id": "e2e09b7d",
      "metadata": {},
      "outputs": [],
      "source": [
        "train_en_df = pd.read_csv('train_translated.csv')\n",
        "test_en_df = pd.read_csv('test_translated.csv')"
      ]
    },
    {
      "cell_type": "code",
      "execution_count": 14,
      "id": "VtDAQOhuW5Z1",
      "metadata": {
        "id": "VtDAQOhuW5Z1"
      },
      "outputs": [
        {
          "name": "stdout",
          "output_type": "stream",
          "text": [
            "language_translated\n",
            "en         9050\n",
            "de           84\n",
            "ca           75\n",
            "fr           54\n",
            "sv           46\n",
            "es           45\n",
            "da           31\n",
            "it           31\n",
            "nl           23\n",
            "no           17\n",
            "af           15\n",
            "pt           12\n",
            "ro           11\n",
            "pl            9\n",
            "tl            8\n",
            "et            7\n",
            "id            6\n",
            "so            3\n",
            "sl            3\n",
            "vi            3\n",
            "unknown       3\n",
            "cy            2\n",
            "el            1\n",
            "lt            1\n",
            "sk            1\n",
            "sw            1\n",
            "sq            1\n",
            "Name: count, dtype: int64\n"
          ]
        }
      ],
      "source": [
        "print(train_en_df['language_translated'].value_counts())"
      ]
    },
    {
      "cell_type": "code",
      "execution_count": 15,
      "id": "jX2uoQCfW5Uv",
      "metadata": {
        "id": "jX2uoQCfW5Uv"
      },
      "outputs": [
        {
          "name": "stdout",
          "output_type": "stream",
          "text": [
            "language_translated\n",
            "en         2279\n",
            "ca           25\n",
            "de           15\n",
            "es           11\n",
            "fr           10\n",
            "ro            6\n",
            "da            6\n",
            "sv            6\n",
            "tl            6\n",
            "no            5\n",
            "af            4\n",
            "nl            4\n",
            "pt            2\n",
            "cy            2\n",
            "it            2\n",
            "so            1\n",
            "sw            1\n",
            "unknown       1\n",
            "vi            1\n",
            "et            1\n",
            "Name: count, dtype: int64\n"
          ]
        }
      ],
      "source": [
        "print(test_en_df['language_translated'].value_counts())"
      ]
    },
    {
      "cell_type": "code",
      "execution_count": 17,
      "id": "7017b0a9",
      "metadata": {},
      "outputs": [
        {
          "data": {
            "application/vnd.microsoft.datawrangler.viewer.v0+json": {
              "columns": [
                {
                  "name": "index",
                  "rawType": "int64",
                  "type": "integer"
                },
                {
                  "name": "text",
                  "rawType": "object",
                  "type": "string"
                },
                {
                  "name": "label",
                  "rawType": "int64",
                  "type": "integer"
                },
                {
                  "name": "language",
                  "rawType": "object",
                  "type": "string"
                },
                {
                  "name": "text_translated",
                  "rawType": "object",
                  "type": "string"
                },
                {
                  "name": "language_translated",
                  "rawType": "object",
                  "type": "string"
                }
              ],
              "ref": "5ce04976-b78c-466c-8afb-1e94a918afab",
              "rows": [
                [
                  "1202",
                  "AEP seeking wind, solar energy in PJM",
                  "2",
                  "af",
                  "AEP looking wind, solar energy in PJM",
                  "af"
                ],
                [
                  "5786",
                  "UK watchdog probing Google-Looker deal",
                  "0",
                  "af",
                  "UK watchdog testing Google-looker deal",
                  "af"
                ],
                [
                  "9146",
                  "$BB keeps going higher on volume.",
                  "1",
                  "en",
                  "$BB keeps going higher on volume.",
                  "af"
                ],
                [
                  "8167",
                  "$CEI Woke up",
                  "2",
                  "hr",
                  "$CEI Week up",
                  "af"
                ],
                [
                  "1322",
                  "Boeing, Airbus kept in suspense over big Dubai jet deals",
                  "2",
                  "af",
                  "Boeing, Airbus keeps in suspension over big Dubai jet deals",
                  "af"
                ],
                [
                  "7773",
                  "RECAP 4/7 -Neg Comments:\r\n$JBSS - Sidoti\r\n$AAON - Lakewood\r\n$FFIN - Lakewood\r\n$KNSL - Lakewood\r\n$RLI - Lakewood\r\n$THFF -… https://t.co/Wfe2aSGUwR",
                  "0",
                  "af",
                  "RECAP 4/7 -Neg Comments: $JBSS - Sitewood $AAON - Lakewood $FFIN - Lakewood $KNSL - Lakewood $RLI - Lakewood $THFF -... https://t.co/Wfe2aSGUwR",
                  "af"
                ],
                [
                  "4213",
                  "Bloomberg Daybreak: Feb. 7, 2020 - Hour 1 (Radio)",
                  "2",
                  "en",
                  "Bloomberg Daybreak: Feb. 7, 2020 - Hour 1 (Radio)",
                  "af"
                ],
                [
                  "2357",
                  "Dividend 15 Split Corp IIA declares CAD 0.10 dividend",
                  "2",
                  "nl",
                  "Dividend 15 Split Body IIA statements CAD 0.10 dividend",
                  "af"
                ],
                [
                  "5808",
                  "Banks settle Fannie, Freddie bond-rigging suit for $337M",
                  "1",
                  "af",
                  "Banks set Fannie, Freddie bond-ring suit for $337M",
                  "af"
                ],
                [
                  "2440",
                  "U.S. Bancorp declares $0.42 dividend",
                  "2",
                  "es",
                  "U.S. Bankorp declares $0.42 dividend",
                  "af"
                ],
                [
                  "133",
                  "$FCX - Freeport upgraded as Credit Suisse sees big buying opportunity https://t.co/d4TGqrNi7Y",
                  "1",
                  "en",
                  "$FCX - Freeport upgraded as Credit Suisse sees big buying opportunity https://t.co/d4TGqrNi7Y",
                  "af"
                ],
                [
                  "4208",
                  "Bloomberg BusinessWeek - Week Of 12/13/19",
                  "2",
                  "af",
                  "Bloomberg BusinessWeek - Week of 12/13/19",
                  "af"
                ],
                [
                  "3503",
                  "Restaurant brands beats, Popeyes sales surge",
                  "1",
                  "fr",
                  "Restaurant brand beats, Poppies sales emerge",
                  "af"
                ],
                [
                  "4212",
                  "Bloomberg Daybreak: Feb. 6, 2020 - Hour 2 (Radio)",
                  "2",
                  "en",
                  "Bloomberg Daybreak: Feb. 6, 2020 - Hour 2 (Radio)",
                  "af"
                ],
                [
                  "3288",
                  "Cboe's Q4 results slide on lower market volatility",
                  "0",
                  "af",
                  "Cboe's Q4 results slide on lower market volatility",
                  "af"
                ],
                [
                  "2347",
                  "Cominar Real Estate Investment Trust declares CAD 0.06 dividend",
                  "2",
                  "ca",
                  "Combine Real Estate Investment Trust statements CAD 0.06 dividend",
                  "ca"
                ],
                [
                  "2805",
                  "Item 9 Labs reports Q4 results",
                  "2",
                  "ca",
                  "Item 9 Labs Q4 results",
                  "ca"
                ],
                [
                  "2912",
                  "Umicore reports FY results",
                  "2",
                  "ca",
                  "Umicore FY results reports",
                  "ca"
                ],
                [
                  "7506",
                  "$SOL - ReneSola names new CEO, CFO after departures https://t.co/mn86Psp8tq",
                  "2",
                  "ca",
                  "$SOL - ReneSola names new CEO, CFO after departments https://t.co/mn86Psp8tq",
                  "ca"
                ],
                [
                  "2273",
                  "$EXP - Eagle Materials declares $0.10 dividend https://t.co/dDmFghmIrA",
                  "2",
                  "ca",
                  "$EXP - Eagle Materials declared $0.10 dividend https://t.co/dDmFghmIrA",
                  "ca"
                ],
                [
                  "2785",
                  "Grom Social Enterprises reports Q3 results",
                  "2",
                  "ca",
                  "Grom Social Enterprises Q3 results",
                  "ca"
                ],
                [
                  "6210",
                  "Fourth-quarter unit-labor costs climb 1.4%",
                  "0",
                  "ca",
                  "Four-quarter unit-labus costs climb 1.4%",
                  "ca"
                ],
                [
                  "2256",
                  "$BLKB - Blackbaud declares $0.12 dividend https://t.co/CVwHSLi2n0",
                  "2",
                  "ca",
                  "$BLKB - Blackbaud declared $0.12 divident https://t.co/CVwHSLi2n0",
                  "ca"
                ],
                [
                  "6136",
                  "Taurus Investment sells $614m logistics portfolio, exits fund",
                  "2",
                  "ca",
                  "Taurus Investment Sells $664m logistics portfolio, exit fund",
                  "ca"
                ],
                [
                  "2365",
                  "Federal REIT declares $1.05 dividend",
                  "2",
                  "es",
                  "Federal REIT claims $1.05 dividend",
                  "ca"
                ],
                [
                  "2367",
                  "Financial 15 Split declares CAD 0.1257 dividend",
                  "2",
                  "ca",
                  "Financial 15 Split statements CAD 0.1257 dividend",
                  "ca"
                ],
                [
                  "2374",
                  "Genuine Parts Company declares $0.7625 dividend",
                  "2",
                  "ca",
                  "Geneune Parts Company declared $0.7625 dividend",
                  "ca"
                ],
                [
                  "2244",
                  "$AEL - American Equity declares $0.30 dividend https://t.co/ggKzSYVcPy",
                  "2",
                  "en",
                  "$AEL - American Equity declares $0.30 dividend https://t.co/ggKzSYVcPy",
                  "ca"
                ],
                [
                  "2794",
                  "Idorsia reports Q4 results",
                  "2",
                  "ca",
                  "Idorsia Q4 results reports",
                  "ca"
                ],
                [
                  "2271",
                  "$ETX - Eaton Vance Municipal Income Term Trust declares $0.0709 dividend https://t.co/dRqMs6urTb",
                  "2",
                  "ca",
                  "$ETX - Eaton Vance Municipal Income Term Trust declares $0.0709 dividend https://t.co/dRqMs6urTb",
                  "ca"
                ],
                [
                  "2288",
                  "$MTSC - MTS Systems declares $0.30 dividend https://t.co/QRVl05IT61",
                  "2",
                  "en",
                  "$MTSC - MTS Systems declares $0.30 dividend https://t.co/QRVl05IT61",
                  "ca"
                ],
                [
                  "9030",
                  "CymaBat halts trial of seladelpar; shares dip 4%",
                  "0",
                  "en",
                  "CymaBat halts trial of seladelpar; shares dip 4%",
                  "ca"
                ],
                [
                  "2819",
                  "Lee reports Q4 results",
                  "2",
                  "fr",
                  "Lee Q4 results reports",
                  "ca"
                ],
                [
                  "2858",
                  "Outotec Oyj reports Q4 results",
                  "2",
                  "ca",
                  "Autotec Oyj Q4 results",
                  "ca"
                ],
                [
                  "2861",
                  "PetroTal reports Q3 results",
                  "2",
                  "ca",
                  "PetroTal Q3 results",
                  "ca"
                ],
                [
                  "2869",
                  "PURE Bioscience Reports Fiscal 2020 Q1 Financial Results",
                  "2",
                  "ca",
                  "PURE Bioscience Reports Fiscal 2020 Q1 Financial Results",
                  "ca"
                ],
                [
                  "2879",
                  "Saab AB reports Q4 results",
                  "2",
                  "ca",
                  "Sab AB reports Q4 results",
                  "ca"
                ],
                [
                  "2880",
                  "Sampo Oyj reports Q4 results",
                  "2",
                  "ca",
                  "Sampo Oyj Q4 results",
                  "ca"
                ],
                [
                  "2885",
                  "SK Telecom reports FY results",
                  "2",
                  "ca",
                  "SK Telecom reports FY results",
                  "ca"
                ],
                [
                  "2807",
                  "Japan Tobacco reports FY results",
                  "2",
                  "en",
                  "Japan Tobacco reports FY results",
                  "ca"
                ],
                [
                  "6819",
                  "Futures up https://t.co/diz7v5lmVb",
                  "1",
                  "ca",
                  "Futures up https://t.co/diz7v5lmVb",
                  "ca"
                ],
                [
                  "2889",
                  "Spectacular Solar reports Q3 results",
                  "2",
                  "ca",
                  "Spectacular Solar Reports Q3 Results",
                  "ca"
                ],
                [
                  "2898",
                  "Terumo reports 9M results",
                  "2",
                  "ca",
                  "Teromo 9M results reports",
                  "ca"
                ],
                [
                  "6962",
                  "US STOCKS-Futures gain as China fuels trade deal optimism",
                  "1",
                  "es",
                  "US STOCKS Fütures vs China foels trade deal optimism",
                  "ca"
                ],
                [
                  "2905",
                  "Tornado Global Hydrovacs reports Q3 results",
                  "2",
                  "ca",
                  "Tornado Global Hydrovacs Q3 results",
                  "ca"
                ],
                [
                  "2908",
                  "Transat reports Q4 results",
                  "2",
                  "ca",
                  "Transfer Q4 results",
                  "ca"
                ],
                [
                  "2911",
                  "Ubiquiti Inc. Reports Second Quarter Fiscal 2020 Financial Results",
                  "2",
                  "ca",
                  "Ubiquiti Inc. Reports Second Quarter Fiscal 2020 Financial Results",
                  "ca"
                ],
                [
                  "2299",
                  "$PSCF - Invesco S&P SmallCap Financials ETF declares $0.47 dividend https://t.co/YverZnfDT0",
                  "2",
                  "ca",
                  "US$PSCF - Investment S&P SmallCap ETF Financial Statements $0.47 dividend https://t.co/YverZnfDT0",
                  "ca"
                ],
                [
                  "2449",
                  "Xenia Hotels declares $0.275 dividend",
                  "2",
                  "ca",
                  "Xenia Hotels declared $0.275 dividend",
                  "ca"
                ],
                [
                  "2922",
                  "Vecima Reports Q2 Fiscal 2020 Results",
                  "2",
                  "ca",
                  "Age Reports Q2 Fiscal 2020 Results",
                  "ca"
                ]
              ],
              "shape": {
                "columns": 5,
                "rows": 493
              }
            },
            "text/html": [
              "<div>\n",
              "<style scoped>\n",
              "    .dataframe tbody tr th:only-of-type {\n",
              "        vertical-align: middle;\n",
              "    }\n",
              "\n",
              "    .dataframe tbody tr th {\n",
              "        vertical-align: top;\n",
              "    }\n",
              "\n",
              "    .dataframe thead th {\n",
              "        text-align: right;\n",
              "    }\n",
              "</style>\n",
              "<table border=\"1\" class=\"dataframe\">\n",
              "  <thead>\n",
              "    <tr style=\"text-align: right;\">\n",
              "      <th></th>\n",
              "      <th>text</th>\n",
              "      <th>label</th>\n",
              "      <th>language</th>\n",
              "      <th>text_translated</th>\n",
              "      <th>language_translated</th>\n",
              "    </tr>\n",
              "  </thead>\n",
              "  <tbody>\n",
              "    <tr>\n",
              "      <th>1202</th>\n",
              "      <td>AEP seeking wind, solar energy in PJM</td>\n",
              "      <td>2</td>\n",
              "      <td>af</td>\n",
              "      <td>AEP looking wind, solar energy in PJM</td>\n",
              "      <td>af</td>\n",
              "    </tr>\n",
              "    <tr>\n",
              "      <th>5786</th>\n",
              "      <td>UK watchdog probing Google-Looker deal</td>\n",
              "      <td>0</td>\n",
              "      <td>af</td>\n",
              "      <td>UK watchdog testing Google-looker deal</td>\n",
              "      <td>af</td>\n",
              "    </tr>\n",
              "    <tr>\n",
              "      <th>9146</th>\n",
              "      <td>$BB keeps going higher on volume.</td>\n",
              "      <td>1</td>\n",
              "      <td>en</td>\n",
              "      <td>$BB keeps going higher on volume.</td>\n",
              "      <td>af</td>\n",
              "    </tr>\n",
              "    <tr>\n",
              "      <th>8167</th>\n",
              "      <td>$CEI Woke up</td>\n",
              "      <td>2</td>\n",
              "      <td>hr</td>\n",
              "      <td>$CEI Week up</td>\n",
              "      <td>af</td>\n",
              "    </tr>\n",
              "    <tr>\n",
              "      <th>1322</th>\n",
              "      <td>Boeing, Airbus kept in suspense over big Dubai...</td>\n",
              "      <td>2</td>\n",
              "      <td>af</td>\n",
              "      <td>Boeing, Airbus keeps in suspension over big Du...</td>\n",
              "      <td>af</td>\n",
              "    </tr>\n",
              "    <tr>\n",
              "      <th>...</th>\n",
              "      <td>...</td>\n",
              "      <td>...</td>\n",
              "      <td>...</td>\n",
              "      <td>...</td>\n",
              "      <td>...</td>\n",
              "    </tr>\n",
              "    <tr>\n",
              "      <th>4683</th>\n",
              "      <td>https://t.co/oJxNPEUpWq</td>\n",
              "      <td>2</td>\n",
              "      <td>unknown</td>\n",
              "      <td>https://t.co/oJxNPEUPWq</td>\n",
              "      <td>unknown</td>\n",
              "    </tr>\n",
              "    <tr>\n",
              "      <th>4681</th>\n",
              "      <td>https://t.co/575AH1YRkF</td>\n",
              "      <td>2</td>\n",
              "      <td>unknown</td>\n",
              "      <td>https://t.co/575AH1YRkF</td>\n",
              "      <td>unknown</td>\n",
              "    </tr>\n",
              "    <tr>\n",
              "      <th>8616</th>\n",
              "      <td>HSAC</td>\n",
              "      <td>2</td>\n",
              "      <td>vi</td>\n",
              "      <td>HSAC</td>\n",
              "      <td>vi</td>\n",
              "    </tr>\n",
              "    <tr>\n",
              "      <th>8590</th>\n",
              "      <td>HOML</td>\n",
              "      <td>2</td>\n",
              "      <td>vi</td>\n",
              "      <td>HOML</td>\n",
              "      <td>vi</td>\n",
              "    </tr>\n",
              "    <tr>\n",
              "      <th>8290</th>\n",
              "      <td>$TSLA</td>\n",
              "      <td>2</td>\n",
              "      <td>vi</td>\n",
              "      <td>$TSLA</td>\n",
              "      <td>vi</td>\n",
              "    </tr>\n",
              "  </tbody>\n",
              "</table>\n",
              "<p>493 rows × 5 columns</p>\n",
              "</div>"
            ],
            "text/plain": [
              "                                                   text  label language  \\\n",
              "1202              AEP seeking wind, solar energy in PJM      2       af   \n",
              "5786             UK watchdog probing Google-Looker deal      0       af   \n",
              "9146                  $BB keeps going higher on volume.      1       en   \n",
              "8167                                       $CEI Woke up      2       hr   \n",
              "1322  Boeing, Airbus kept in suspense over big Dubai...      2       af   \n",
              "...                                                 ...    ...      ...   \n",
              "4683                            https://t.co/oJxNPEUpWq      2  unknown   \n",
              "4681                            https://t.co/575AH1YRkF      2  unknown   \n",
              "8616                                               HSAC      2       vi   \n",
              "8590                                               HOML      2       vi   \n",
              "8290                                              $TSLA      2       vi   \n",
              "\n",
              "                                        text_translated language_translated  \n",
              "1202              AEP looking wind, solar energy in PJM                  af  \n",
              "5786             UK watchdog testing Google-looker deal                  af  \n",
              "9146                  $BB keeps going higher on volume.                  af  \n",
              "8167                                       $CEI Week up                  af  \n",
              "1322  Boeing, Airbus keeps in suspension over big Du...                  af  \n",
              "...                                                 ...                 ...  \n",
              "4683                            https://t.co/oJxNPEUPWq             unknown  \n",
              "4681                            https://t.co/575AH1YRkF             unknown  \n",
              "8616                                               HSAC                  vi  \n",
              "8590                                               HOML                  vi  \n",
              "8290                                              $TSLA                  vi  \n",
              "\n",
              "[493 rows x 5 columns]"
            ]
          },
          "execution_count": 17,
          "metadata": {},
          "output_type": "execute_result"
        }
      ],
      "source": [
        "train_en_df[train_en_df['language_translated'] != 'en'].sort_values(by='language_translated')"
      ]
    },
    {
      "cell_type": "code",
      "execution_count": 20,
      "id": "7c60cee1",
      "metadata": {},
      "outputs": [
        {
          "data": {
            "application/vnd.microsoft.datawrangler.viewer.v0+json": {
              "columns": [
                {
                  "name": "index",
                  "rawType": "int64",
                  "type": "integer"
                },
                {
                  "name": "language_translated",
                  "rawType": "object",
                  "type": "string"
                },
                {
                  "name": "text_length",
                  "rawType": "int64",
                  "type": "integer"
                },
                {
                  "name": "text",
                  "rawType": "object",
                  "type": "string"
                }
              ],
              "ref": "a29fa779-13b2-4635-8da0-d181ea0a5ee1",
              "rows": [
                [
                  "8167",
                  "af",
                  "12",
                  "$CEI Woke up"
                ],
                [
                  "9146",
                  "af",
                  "33",
                  "$BB keeps going higher on volume."
                ],
                [
                  "2440",
                  "af",
                  "36",
                  "U.S. Bancorp declares $0.42 dividend"
                ],
                [
                  "1202",
                  "af",
                  "37",
                  "AEP seeking wind, solar energy in PJM"
                ],
                [
                  "5786",
                  "af",
                  "38",
                  "UK watchdog probing Google-Looker deal"
                ]
              ],
              "shape": {
                "columns": 3,
                "rows": 5
              }
            },
            "text/html": [
              "<div>\n",
              "<style scoped>\n",
              "    .dataframe tbody tr th:only-of-type {\n",
              "        vertical-align: middle;\n",
              "    }\n",
              "\n",
              "    .dataframe tbody tr th {\n",
              "        vertical-align: top;\n",
              "    }\n",
              "\n",
              "    .dataframe thead th {\n",
              "        text-align: right;\n",
              "    }\n",
              "</style>\n",
              "<table border=\"1\" class=\"dataframe\">\n",
              "  <thead>\n",
              "    <tr style=\"text-align: right;\">\n",
              "      <th></th>\n",
              "      <th>language_translated</th>\n",
              "      <th>text_length</th>\n",
              "      <th>text</th>\n",
              "    </tr>\n",
              "  </thead>\n",
              "  <tbody>\n",
              "    <tr>\n",
              "      <th>8167</th>\n",
              "      <td>af</td>\n",
              "      <td>12</td>\n",
              "      <td>$CEI Woke up</td>\n",
              "    </tr>\n",
              "    <tr>\n",
              "      <th>9146</th>\n",
              "      <td>af</td>\n",
              "      <td>33</td>\n",
              "      <td>$BB keeps going higher on volume.</td>\n",
              "    </tr>\n",
              "    <tr>\n",
              "      <th>2440</th>\n",
              "      <td>af</td>\n",
              "      <td>36</td>\n",
              "      <td>U.S. Bancorp declares $0.42 dividend</td>\n",
              "    </tr>\n",
              "    <tr>\n",
              "      <th>1202</th>\n",
              "      <td>af</td>\n",
              "      <td>37</td>\n",
              "      <td>AEP seeking wind, solar energy in PJM</td>\n",
              "    </tr>\n",
              "    <tr>\n",
              "      <th>5786</th>\n",
              "      <td>af</td>\n",
              "      <td>38</td>\n",
              "      <td>UK watchdog probing Google-Looker deal</td>\n",
              "    </tr>\n",
              "  </tbody>\n",
              "</table>\n",
              "</div>"
            ],
            "text/plain": [
              "     language_translated  text_length                                    text\n",
              "8167                  af           12                            $CEI Woke up\n",
              "9146                  af           33       $BB keeps going higher on volume.\n",
              "2440                  af           36    U.S. Bancorp declares $0.42 dividend\n",
              "1202                  af           37   AEP seeking wind, solar energy in PJM\n",
              "5786                  af           38  UK watchdog probing Google-Looker deal"
            ]
          },
          "execution_count": 20,
          "metadata": {},
          "output_type": "execute_result"
        }
      ],
      "source": [
        "# Filtrar não-inglês e adicionar coluna com tamanho do texto\n",
        "nao_en_ordenado = train_en_df[train_en_df['language_translated'] != 'en'].copy()\n",
        "nao_en_ordenado['text_length'] = nao_en_ordenado['text'].str.len()\n",
        "\n",
        "# Ordenar por 'language_translated' e depois por comprimento decrescente\n",
        "nao_en_ordenado = nao_en_ordenado.sort_values(by=['language_translated', 'text_length'], ascending=[True, True])\n",
        "\n",
        "# Ver resultado\n",
        "nao_en_ordenado[['language_translated', 'text_length', 'text']].head()\n"
      ]
    },
    {
      "cell_type": "code",
      "execution_count": null,
      "id": "65231947",
      "metadata": {},
      "outputs": [],
      "source": []
    },
    {
      "cell_type": "code",
      "execution_count": null,
      "id": "317b18b0",
      "metadata": {},
      "outputs": [],
      "source": []
    },
    {
      "cell_type": "code",
      "execution_count": null,
      "id": "ce2f7683",
      "metadata": {},
      "outputs": [],
      "source": [
        "# Preprossing Rita\n",
        "\n",
        "def basic_clean(text):\n",
        "    text = str(text)\n",
        "    text = re.sub(r'http\\S+|www\\S+|https\\S+', '', text)   # Remove URLs\n",
        "    text = re.sub(r'@\\w+', '', text)                      # Remove @mentions\n",
        "    text = re.sub(r'#\\w+', '', text)                      # Remove hashtags\n",
        "    text = re.sub(r'$[A-Z]{1,6}\\b', '', text)            # Remove tickers like $AAPL\n",
        "    return text.strip()\n",
        "\n",
        "train_df[\"clean_text\"] = train_df[\"text\"].apply(basic_clean)\n",
        "import re\n",
        "\n",
        "elongation_pattern = re.compile(r\"\\b\\w(\\w)\\1{2,}\\w\\b\")\n",
        "\n",
        "def get_elongated_words(text):\n",
        "    return [match.group(0) for match in elongation_pattern.finditer(str(text))]\n",
        "\n",
        "all_elongated_words = (\n",
        "    train_df[\"clean_text\"]\n",
        "    .apply(get_elongated_words)\n",
        "    .explode()\n",
        "    .dropna()\n",
        "    .tolist()\n",
        ")\n",
        "\n",
        "def is_valid_elongation(word):\n",
        "    return (\n",
        "        word.isalpha()                 # only letters\n",
        "        and len(word) > 3             # long enough\n",
        "        and not word.isupper()        # not all caps (likely tickers)\n",
        "    )\n",
        "\n",
        "valid_elongated_words = list({w for w in all_elongated_words if is_valid_elongation(w)})\n",
        "\n",
        "print(\"✅ Valid elongated words that will be corrected:\")\n",
        "print(valid_elongated_words[:20])\n",
        "def reduce_elongation(word):\n",
        "    return re.sub(r'(.)\\1{2,}', r'\\1\\1', word)\n",
        "def fix_valid_elongations(text, elong_words):\n",
        "    for word in elong_words:\n",
        "        if word in text:\n",
        "            fixed = reduce_elongation(word)\n",
        "            text = text.replace(word, fixed)\n",
        "    return text\n",
        "\n",
        "train_df[\"clean_text\"] = train_df[\"clean_text\"].apply(\n",
        "    lambda x: fix_valid_elongations(str(x), valid_elongated_words)\n",
        ")"
      ]
    },
    {
      "cell_type": "code",
      "execution_count": null,
      "id": "3c0b4820",
      "metadata": {},
      "outputs": [],
      "source": []
    }
  ],
  "metadata": {
    "colab": {
      "collapsed_sections": [
        "qv8vq5ykGkw1",
        "slJn2V2E07PD",
        "VCx2G_MH4zS6"
      ],
      "provenance": []
    },
    "kernelspec": {
      "display_name": "Python 3",
      "language": "python",
      "name": "python3"
    },
    "language_info": {
      "codemirror_mode": {
        "name": "ipython",
        "version": 3
      },
      "file_extension": ".py",
      "mimetype": "text/x-python",
      "name": "python",
      "nbconvert_exporter": "python",
      "pygments_lexer": "ipython3",
      "version": "3.12.10"
    }
  },
  "nbformat": 4,
  "nbformat_minor": 5
}
