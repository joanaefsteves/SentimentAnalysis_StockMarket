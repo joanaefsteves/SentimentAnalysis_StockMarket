{
 "cells": [
  {
   "cell_type": "code",
   "execution_count": 2,
   "id": "e1fe95dd",
   "metadata": {},
   "outputs": [
    {
     "name": "stderr",
     "output_type": "stream",
     "text": [
      "/Users/joanaesteves/Desktop/MDSAA-DS/S2/T4/TM/.TM_Project/lib/python3.11/site-packages/tqdm/auto.py:21: TqdmWarning: IProgress not found. Please update jupyter and ipywidgets. See https://ipywidgets.readthedocs.io/en/stable/user_install.html\n",
      "  from .autonotebook import tqdm as notebook_tqdm\n"
     ]
    }
   ],
   "source": [
    "from preprocessing import StandardPreprocess, PreprocessBERT\n",
    "\n",
    "import pandas as pd"
   ]
  },
  {
   "cell_type": "code",
   "execution_count": 3,
   "id": "78bea5f8",
   "metadata": {},
   "outputs": [],
   "source": [
    "train_df = pd.read_csv('Data/train.csv')"
   ]
  },
  {
   "cell_type": "code",
   "execution_count": 4,
   "id": "9a0a9d04",
   "metadata": {},
   "outputs": [],
   "source": [
    "train_stnd = train_df.copy()\n",
    "train_bert = train_df.copy()"
   ]
  },
  {
   "cell_type": "code",
   "execution_count": 4,
   "id": "afd8e9fa",
   "metadata": {},
   "outputs": [],
   "source": [
    "preprocessor = StandardPreprocess(\n",
    "    #lemmatize=True, \n",
    "    #stem=False, \n",
    "    #text_col='text'\n",
    "    )\n",
    "\n",
    "preprocessor.clean(train_stnd)\n",
    "preprocessor.demojize(train_stnd)\n",
    "preprocessor.tokenize(train_stnd)"
   ]
  },
  {
   "cell_type": "code",
   "execution_count": 9,
   "id": "c79c5493",
   "metadata": {},
   "outputs": [
    {
     "data": {
      "text/html": [
       "<div>\n",
       "<style scoped>\n",
       "    .dataframe tbody tr th:only-of-type {\n",
       "        vertical-align: middle;\n",
       "    }\n",
       "\n",
       "    .dataframe tbody tr th {\n",
       "        vertical-align: top;\n",
       "    }\n",
       "\n",
       "    .dataframe thead th {\n",
       "        text-align: right;\n",
       "    }\n",
       "</style>\n",
       "<table border=\"1\" class=\"dataframe\">\n",
       "  <thead>\n",
       "    <tr style=\"text-align: right;\">\n",
       "      <th></th>\n",
       "      <th>text</th>\n",
       "      <th>label</th>\n",
       "      <th>emojis</th>\n",
       "      <th>demojized</th>\n",
       "    </tr>\n",
       "  </thead>\n",
       "  <tbody>\n",
       "    <tr>\n",
       "      <th>451</th>\n",
       "      <td>[eib, hashtag️eib, bank, lending, hashtag, has...</td>\n",
       "      <td>2</td>\n",
       "      <td>[➡️]</td>\n",
       "      <td>:right_arrow:</td>\n",
       "    </tr>\n",
       "    <tr>\n",
       "      <th>622</th>\n",
       "      <td>[live, fed, chair, jerome, powell, speaks, tod...</td>\n",
       "      <td>2</td>\n",
       "      <td>[▶️]</td>\n",
       "      <td>:play_button:</td>\n",
       "    </tr>\n",
       "    <tr>\n",
       "      <th>993</th>\n",
       "      <td>[invora, herbicide, receives, epa, federal, ap...</td>\n",
       "      <td>1</td>\n",
       "      <td>[™]</td>\n",
       "      <td>:trade_mark:</td>\n",
       "    </tr>\n",
       "    <tr>\n",
       "      <th>1261</th>\n",
       "      <td>[applied, dna, announces, issuance, u.s., pate...</td>\n",
       "      <td>2</td>\n",
       "      <td>[®]</td>\n",
       "      <td>:registered:</td>\n",
       "    </tr>\n",
       "    <tr>\n",
       "      <th>1350</th>\n",
       "      <td>[carvana, brings, new, way, buy, car, utah]</td>\n",
       "      <td>2</td>\n",
       "      <td>[™]</td>\n",
       "      <td>:trade_mark:</td>\n",
       "    </tr>\n",
       "  </tbody>\n",
       "</table>\n",
       "</div>"
      ],
      "text/plain": [
       "                                                   text  label emojis  \\\n",
       "451   [eib, hashtag️eib, bank, lending, hashtag, has...      2   [➡️]   \n",
       "622   [live, fed, chair, jerome, powell, speaks, tod...      2   [▶️]   \n",
       "993   [invora, herbicide, receives, epa, federal, ap...      1    [™]   \n",
       "1261  [applied, dna, announces, issuance, u.s., pate...      2    [®]   \n",
       "1350        [carvana, brings, new, way, buy, car, utah]      2    [™]   \n",
       "\n",
       "          demojized  \n",
       "451   :right_arrow:  \n",
       "622   :play_button:  \n",
       "993    :trade_mark:  \n",
       "1261   :registered:  \n",
       "1350   :trade_mark:  "
      ]
     },
     "execution_count": 9,
     "metadata": {},
     "output_type": "execute_result"
    }
   ],
   "source": [
    "filtered_df = train_stnd[train_stnd['demojized'] != 'No emojis']  \n",
    "\n",
    "filtered_df.head()"
   ]
  },
  {
   "cell_type": "code",
   "execution_count": 5,
   "id": "3abb9865",
   "metadata": {},
   "outputs": [],
   "source": [
    "preprocessorBERT = PreprocessBERT (\n",
    "    #lemmatize=True, \n",
    "    # stem=False, \n",
    "    # text_col='text', \n",
    "    # bert_model='bert-base-uncased'\n",
    "    )\n",
    "\n",
    "preprocessorBERT.clean(train_bert)\n",
    "preprocessorBERT.demojize(train_bert)\n",
    "inputs = preprocessorBERT.tokenize(train_bert)"
   ]
  },
  {
   "cell_type": "code",
   "execution_count": 6,
   "id": "92197cc9",
   "metadata": {},
   "outputs": [
    {
     "data": {
      "text/html": [
       "<div>\n",
       "<style scoped>\n",
       "    .dataframe tbody tr th:only-of-type {\n",
       "        vertical-align: middle;\n",
       "    }\n",
       "\n",
       "    .dataframe tbody tr th {\n",
       "        vertical-align: top;\n",
       "    }\n",
       "\n",
       "    .dataframe thead th {\n",
       "        text-align: right;\n",
       "    }\n",
       "</style>\n",
       "<table border=\"1\" class=\"dataframe\">\n",
       "  <thead>\n",
       "    <tr style=\"text-align: right;\">\n",
       "      <th></th>\n",
       "      <th>text</th>\n",
       "      <th>label</th>\n",
       "    </tr>\n",
       "  </thead>\n",
       "  <tbody>\n",
       "    <tr>\n",
       "      <th>0</th>\n",
       "      <td>ticker jpmorgan reel expectation beyond meat h...</td>\n",
       "      <td>0</td>\n",
       "    </tr>\n",
       "    <tr>\n",
       "      <th>1</th>\n",
       "      <td>ticker ticker nomura point booking weakness ca...</td>\n",
       "      <td>0</td>\n",
       "    </tr>\n",
       "    <tr>\n",
       "      <th>2</th>\n",
       "      <td>ticker cemex cut credit suisse j.p. morgan wea...</td>\n",
       "      <td>0</td>\n",
       "    </tr>\n",
       "    <tr>\n",
       "      <th>3</th>\n",
       "      <td>ticker btig research cut neutral hashtag</td>\n",
       "      <td>0</td>\n",
       "    </tr>\n",
       "    <tr>\n",
       "      <th>4</th>\n",
       "      <td>ticker funko slide piper jaffray pt cut hashtag</td>\n",
       "      <td>0</td>\n",
       "    </tr>\n",
       "  </tbody>\n",
       "</table>\n",
       "</div>"
      ],
      "text/plain": [
       "                                                text  label\n",
       "0  ticker jpmorgan reel expectation beyond meat h...      0\n",
       "1  ticker ticker nomura point booking weakness ca...      0\n",
       "2  ticker cemex cut credit suisse j.p. morgan wea...      0\n",
       "3           ticker btig research cut neutral hashtag      0\n",
       "4    ticker funko slide piper jaffray pt cut hashtag      0"
      ]
     },
     "execution_count": 6,
     "metadata": {},
     "output_type": "execute_result"
    }
   ],
   "source": [
    "train_bert.head()"
   ]
  },
  {
   "cell_type": "code",
   "execution_count": 16,
   "id": "2e919694",
   "metadata": {},
   "outputs": [
    {
     "name": "stdout",
     "output_type": "stream",
     "text": [
      "{'input_ids': tensor([[  101, 16356,  2121,  ...,     0,     0,     0],\n",
      "        [  101, 16356,  2121,  ...,     0,     0,     0],\n",
      "        [  101, 16356,  2121,  ...,     0,     0,     0],\n",
      "        ...,\n",
      "        [  101, 28879,  2615,  ...,     0,     0,     0],\n",
      "        [  101,  2147, 26726,  ...,     0,     0,     0],\n",
      "        [  101,  1061,  4859,  ...,     0,     0,     0]]), 'token_type_ids': tensor([[0, 0, 0,  ..., 0, 0, 0],\n",
      "        [0, 0, 0,  ..., 0, 0, 0],\n",
      "        [0, 0, 0,  ..., 0, 0, 0],\n",
      "        ...,\n",
      "        [0, 0, 0,  ..., 0, 0, 0],\n",
      "        [0, 0, 0,  ..., 0, 0, 0],\n",
      "        [0, 0, 0,  ..., 0, 0, 0]]), 'attention_mask': tensor([[1, 1, 1,  ..., 0, 0, 0],\n",
      "        [1, 1, 1,  ..., 0, 0, 0],\n",
      "        [1, 1, 1,  ..., 0, 0, 0],\n",
      "        ...,\n",
      "        [1, 1, 1,  ..., 0, 0, 0],\n",
      "        [1, 1, 1,  ..., 0, 0, 0],\n",
      "        [1, 1, 1,  ..., 0, 0, 0]])}\n"
     ]
    }
   ],
   "source": [
    "print(inputs)"
   ]
  }
 ],
 "metadata": {
  "kernelspec": {
   "display_name": "TM_Project",
   "language": "python",
   "name": "tm_project"
  },
  "language_info": {
   "codemirror_mode": {
    "name": "ipython",
    "version": 3
   },
   "file_extension": ".py",
   "mimetype": "text/x-python",
   "name": "python",
   "nbconvert_exporter": "python",
   "pygments_lexer": "ipython3",
   "version": "3.11.8"
  }
 },
 "nbformat": 4,
 "nbformat_minor": 5
}
